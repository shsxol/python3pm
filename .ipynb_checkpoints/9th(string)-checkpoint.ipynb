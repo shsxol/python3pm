{
 "cells": [
  {
   "cell_type": "code",
   "execution_count": 1,
   "id": "792daf38",
   "metadata": {},
   "outputs": [],
   "source": [
    "#string"
   ]
  },
  {
   "cell_type": "code",
   "execution_count": 2,
   "id": "b6598048",
   "metadata": {},
   "outputs": [
    {
     "name": "stdout",
     "output_type": "stream",
     "text": [
      "<class 'str'>\n",
      "<class 'str'>\n",
      "<class 'str'>\n"
     ]
    }
   ],
   "source": [
    "a='python'\n",
    "b=\"python\"\n",
    "c='''python'''\n",
    "print(type(a))\n",
    "print(type(b))\n",
    "print(type(c))"
   ]
  },
  {
   "cell_type": "code",
   "execution_count": 3,
   "id": "aad638d6",
   "metadata": {},
   "outputs": [
    {
     "data": {
      "text/plain": [
       "str"
      ]
     },
     "execution_count": 3,
     "metadata": {},
     "output_type": "execute_result"
    }
   ],
   "source": [
    "a=\"10\"\n",
    "type(a)"
   ]
  },
  {
   "cell_type": "code",
   "execution_count": 10,
   "id": "70f3dca6",
   "metadata": {},
   "outputs": [
    {
     "name": "stdout",
     "output_type": "stream",
     "text": [
      "enter the value of a = smile\n",
      "smile\n"
     ]
    }
   ],
   "source": [
    "a=input(\"enter the value of a = \")\n",
    "print(a)"
   ]
  },
  {
   "cell_type": "code",
   "execution_count": 12,
   "id": "0e2225f5",
   "metadata": {},
   "outputs": [
    {
     "name": "stdout",
     "output_type": "stream",
     "text": [
      "enter the value of a = smile\n",
      "enter the value of b = shrestha\n",
      "smile shrestha\n"
     ]
    }
   ],
   "source": [
    "a=input(\"enter the value of a = \")\n",
    "b=input(\"enter the value of b = \")\n",
    "c=a+\" \"+b\n",
    "print(c)"
   ]
  },
  {
   "cell_type": "code",
   "execution_count": 13,
   "id": "5150c206",
   "metadata": {},
   "outputs": [
    {
     "name": "stdout",
     "output_type": "stream",
     "text": [
      "hello world \n",
      "hello world \n",
      "\n"
     ]
    }
   ],
   "source": [
    "a=\"hello world \\n\"\n",
    "print(a*2)"
   ]
  },
  {
   "cell_type": "code",
   "execution_count": 16,
   "id": "e8cf190d",
   "metadata": {},
   "outputs": [
    {
     "name": "stdout",
     "output_type": "stream",
     "text": [
      "enter the sentence = \n",
      " why u act like that\n",
      "why u act like thatwhy u act like that\n"
     ]
    }
   ],
   "source": [
    "a=input(\"enter the sentence = \\n \")\n",
    "print(a*2)"
   ]
  },
  {
   "cell_type": "code",
   "execution_count": 20,
   "id": "187cd1c2",
   "metadata": {},
   "outputs": [
    {
     "name": "stdout",
     "output_type": "stream",
     "text": [
      "hello world i am smile . i am 16 years old. i am from ktm\n"
     ]
    }
   ],
   "source": [
    "#string formatting\n",
    "name=\"smile \"\n",
    "age=16\n",
    "add=\"ktm\"\n",
    "info=f\"hello world i am {name}. i am {age} years old. i am from {add}\" # for string formating\n",
    "print(info)"
   ]
  },
  {
   "cell_type": "code",
   "execution_count": 29,
   "id": "4b66a070",
   "metadata": {},
   "outputs": [
    {
     "name": "stdout",
     "output_type": "stream",
     "text": [
      "value of n = 2\n",
      "enter product name = smile\n",
      "enter price  = 50\n",
      "enter quantity = 2\n",
      "enter product name = shakti\n",
      "enter price  = 20\n",
      "enter quantity = 2\n",
      "the product smile has 50 price and 2 quantity of 100 rs\n",
      "the product shakti has 20 price and 2 quantity of 40 rs\n",
      "\n"
     ]
    }
   ],
   "source": [
    "bill=\"\"\n",
    "n=int(input(\"value of n = \"))\n",
    "for i in range(n):\n",
    "    product=input(\"enter product name = \")\n",
    "    price=int(input(\"enter price  = \"))\n",
    "    quantity=int(input(\"enter quantity = \"))\n",
    "    total=price*quantity\n",
    "    info=f\"the product {product} has {price} price and {quantity} quantity of {total} rs\\n\"\n",
    "    bill=bill+info\n",
    "print(bill)\n",
    "    "
   ]
  },
  {
   "cell_type": "code",
   "execution_count": 37,
   "id": "a3081ea4",
   "metadata": {},
   "outputs": [
    {
     "name": "stdout",
     "output_type": "stream",
     "text": [
      "hello\n",
      " smile sskssksk\n"
     ]
    }
   ],
   "source": [
    "#slicing\n",
    "a=\"hello smile sskssksk\"\n",
    "b=a[0:5] #index from 0 to 5\n",
    "c=a[5:] #index from 5 to so on\n",
    "print(b)\n",
    "print(c)"
   ]
  },
  {
   "cell_type": "code",
   "execution_count": 38,
   "id": "8bcddd62",
   "metadata": {},
   "outputs": [
    {
     "name": "stdout",
     "output_type": "stream",
     "text": [
      "enter th text = smile shrestha\n",
      "smile\n"
     ]
    }
   ],
   "source": [
    "a=input(\"enter th text = \")\n",
    "b=a[0:5]\n",
    "print(b)"
   ]
  },
  {
   "cell_type": "code",
   "execution_count": 42,
   "id": "263032c6",
   "metadata": {},
   "outputs": [
    {
     "data": {
      "text/plain": [
       "'ython'"
      ]
     },
     "execution_count": 42,
     "metadata": {},
     "output_type": "execute_result"
    }
   ],
   "source": [
    "a=\"python\"\n",
    "a[1:100] #no problem because there is no limit in boundary for the end numbers"
   ]
  },
  {
   "cell_type": "code",
   "execution_count": 43,
   "id": "ee55c51a",
   "metadata": {},
   "outputs": [
    {
     "name": "stdout",
     "output_type": "stream",
     "text": [
      "siesr\n"
     ]
    }
   ],
   "source": [
    "a=\"smile shrestha\"\n",
    "print(a[0:10:2]) #index starting from 0 to 10 by increasing by 2 index"
   ]
  },
  {
   "cell_type": "code",
   "execution_count": 44,
   "id": "88cc4759",
   "metadata": {},
   "outputs": [
    {
     "name": "stdout",
     "output_type": "stream",
     "text": [
      "elims\n"
     ]
    }
   ],
   "source": [
    "# for reversing\n",
    "a=\"smile\"\n",
    "print(a[::-1])"
   ]
  },
  {
   "cell_type": "code",
   "execution_count": 1,
   "id": "43f3ee6c",
   "metadata": {},
   "outputs": [
    {
     "name": "stdout",
     "output_type": "stream",
     "text": [
      "enter the searching word = bhakti\n",
      "yes\n",
      "3\n"
     ]
    }
   ],
   "source": [
    "a=\"smile shakti shrestha bhakti rajbhandari bhakti bhakti\"\n",
    "search=input(\"enter the searching word = \")\n",
    "if search in a:\n",
    "    print(\"yes\")\n",
    "    print(a.count(search))"
   ]
  },
  {
   "cell_type": "code",
   "execution_count": 2,
   "id": "c626174f",
   "metadata": {},
   "outputs": [
    {
     "name": "stdout",
     "output_type": "stream",
     "text": [
      "smile shakti shrestha bhakti rajbhandari bhakti bhakti\n",
      "SMILE SHAKTI SHRESTHA BHAKTI RAJBHANDARI BHAKTI BHAKTI\n"
     ]
    }
   ],
   "source": [
    "a=\"smile shakti shrestha bhakti rajbhandari bhakti bhakti\"\n",
    "print(a.lower()) #both lower() and upper() are the already predefined funation in python\n",
    "print(a.upper())"
   ]
  },
  {
   "cell_type": "code",
   "execution_count": 5,
   "id": "53530fdd",
   "metadata": {},
   "outputs": [
    {
     "name": "stdout",
     "output_type": "stream",
     "text": [
      "enter the searching word = bhakti\n",
      "yes\n",
      "3\n"
     ]
    }
   ],
   "source": [
    "a=\"smile shakti shrestha Bhakti rajbhandari Bhakti Bhakti\".lower() # to chnage the whole sentences into lower case\n",
    "search= input(\"enter the searching word = \").lower() #to change the searches word in lower case \n",
    "if search in a:\n",
    "    print(\"yes\")\n",
    "    print(a.count(search))"
   ]
  },
  {
   "cell_type": "code",
   "execution_count": 9,
   "id": "09c89339",
   "metadata": {},
   "outputs": [
    {
     "name": "stdout",
     "output_type": "stream",
     "text": [
      "smile shakti shrestha Bhakti rajbhandari Bhakti Bhakti\n",
      " shakti shrestha Bhakti rajbhandari Bhakti Bhakti\n"
     ]
    }
   ],
   "source": [
    "a=\"smile shakti shrestha Bhakti rajbhandari Bhakti Bhakti\"\n",
    "b= a.replace(\"smile\",\"\") #to replace the word with other word\n",
    "print(a)\n",
    "print(b)"
   ]
  },
  {
   "cell_type": "code",
   "execution_count": 10,
   "id": "339796d5",
   "metadata": {},
   "outputs": [
    {
     "data": {
      "text/plain": [
       "['smile', 'shakti', 'shrestha', 'Bhakti', 'rajbhandari', 'Bhakti', 'Bhakti']"
      ]
     },
     "execution_count": 10,
     "metadata": {},
     "output_type": "execute_result"
    }
   ],
   "source": [
    "a=\"smile shakti shrestha Bhakti rajbhandari Bhakti Bhakti\"\n",
    "a.split() # when the words and character are seperated with the space then it will split them into list "
   ]
  },
  {
   "cell_type": "code",
   "execution_count": 11,
   "id": "6d6c0ab7",
   "metadata": {},
   "outputs": [
    {
     "data": {
      "text/plain": [
       "'Smile Shakti Shrestha Bhakti Rajbhandari Bhakti Bhakti'"
      ]
     },
     "execution_count": 11,
     "metadata": {},
     "output_type": "execute_result"
    }
   ],
   "source": [
    "a=\"smile shakti shrestha Bhakti rajbhandari Bhakti Bhakti\"\n",
    "a.title() # to convert the first letter of each word into capital letter"
   ]
  },
  {
   "cell_type": "code",
   "execution_count": 1,
   "id": "6fc470f8",
   "metadata": {},
   "outputs": [
    {
     "data": {
      "text/plain": [
       "['smile', 'shrestha']"
      ]
     },
     "execution_count": 1,
     "metadata": {},
     "output_type": "execute_result"
    }
   ],
   "source": [
    "a=\"smile shrestha\"\n",
    "a.split()"
   ]
  },
  {
   "cell_type": "code",
   "execution_count": null,
   "id": "26253648",
   "metadata": {},
   "outputs": [],
   "source": []
  }
 ],
 "metadata": {
  "kernelspec": {
   "display_name": "Python 3 (ipykernel)",
   "language": "python",
   "name": "python3"
  },
  "language_info": {
   "codemirror_mode": {
    "name": "ipython",
    "version": 3
   },
   "file_extension": ".py",
   "mimetype": "text/x-python",
   "name": "python",
   "nbconvert_exporter": "python",
   "pygments_lexer": "ipython3",
   "version": "3.9.12"
  }
 },
 "nbformat": 4,
 "nbformat_minor": 5
}
