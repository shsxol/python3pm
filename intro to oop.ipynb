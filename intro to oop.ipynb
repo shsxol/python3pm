{
 "cells": [
  {
   "cell_type": "code",
   "execution_count": 1,
   "id": "44f1e5c0",
   "metadata": {},
   "outputs": [],
   "source": [
    "#oop\n",
    "# inheritance, encapsulation, polymorphism\n"
   ]
  },
  {
   "cell_type": "code",
   "execution_count": 4,
   "id": "13be6295",
   "metadata": {},
   "outputs": [
    {
     "name": "stdout",
     "output_type": "stream",
     "text": [
      "hello\n"
     ]
    }
   ],
   "source": [
    "#simple define\n",
    "class Hello:\n",
    "        print(\"hello\")\n",
    "obj=Hello()"
   ]
  },
  {
   "cell_type": "code",
   "execution_count": 8,
   "id": "47dd4333",
   "metadata": {},
   "outputs": [
    {
     "name": "stdout",
     "output_type": "stream",
     "text": [
      "hello\n"
     ]
    }
   ],
   "source": [
    "# function inside class is known as method\n",
    "class Hello:             #class\n",
    "    def hello(self):         #method   need to write self as argument\n",
    "        print(\"hello\")\n",
    "obj=Hello()\n",
    "obj.hello()"
   ]
  },
  {
   "cell_type": "code",
   "execution_count": 11,
   "id": "f7139974",
   "metadata": {},
   "outputs": [
    {
     "name": "stdout",
     "output_type": "stream",
     "text": [
      "hi \n"
     ]
    }
   ],
   "source": [
    "class Hello():\n",
    "    @staticmethod       #alternative method instead of self argument\n",
    "    def hello():\n",
    "        print(\"hi \")\n",
    "obj=Hello()\n",
    "obj.hello()"
   ]
  },
  {
   "cell_type": "code",
   "execution_count": 13,
   "id": "f1a52941",
   "metadata": {},
   "outputs": [
    {
     "name": "stdout",
     "output_type": "stream",
     "text": [
      "enter the value of p =100000\n",
      "enter the value of t = 6\n",
      "enter the value of r= 8\n",
      "48000.0\n"
     ]
    }
   ],
   "source": [
    "class Cal:\n",
    "    def cal(self,p,t,r):\n",
    "        i=p*t*r/100\n",
    "        print(i)\n",
    "p=int(input(\"enter the value of p =\"))\n",
    "t=int(input(\"enter the value of t = \"))\n",
    "r=int(input(\"enter the value of r= \"))\n",
    "obj=Cal()\n",
    "obj.cal(p,t,r)"
   ]
  },
  {
   "cell_type": "code",
   "execution_count": 15,
   "id": "fd73ad0d",
   "metadata": {},
   "outputs": [
    {
     "name": "stdout",
     "output_type": "stream",
     "text": [
      "enter l = 5\n",
      "enter b = 4\n",
      "enter h = 2\n",
      "40\n",
      "20\n"
     ]
    }
   ],
   "source": [
    "class Calc:\n",
    "    def vol(self,l,b,h):\n",
    "        v=l*b*h\n",
    "        print(v)\n",
    "    def area(self,l,b):           #used to access variables in function\n",
    "        a=l*b\n",
    "        print(a)\n",
    "l=int(input(\"enter l = \"))\n",
    "b=int(input(\"enter b = \"))\n",
    "h=int(input(\"enter h = \"))\n",
    "obj=Calc()\n",
    "obj.vol(l,b,h)\n",
    "obj.area(l,b)"
   ]
  },
  {
   "cell_type": "code",
   "execution_count": 23,
   "id": "e44e1ff6",
   "metadata": {},
   "outputs": [
    {
     "name": "stdout",
     "output_type": "stream",
     "text": [
      "enter the value of p =5\n",
      "enter the value of t = 4\n",
      "enter the value of r= 1\n",
      "0.2\n"
     ]
    }
   ],
   "source": [
    "class Cal:\n",
    "    def __init__(self,p,t,r):\n",
    "        self.p=p\n",
    "        self.t=t\n",
    "        self.r=r\n",
    "        dum\n",
    "    def cal(self):\n",
    "        i=self.p*self.t*self.r/100\n",
    "        print(i)\n",
    "        \n",
    "p=int(input(\"enter the value of p =\"))\n",
    "t=int(input(\"enter the value of t = \"))\n",
    "r=int(input(\"enter the value of r= \"))\n",
    "obj=Cal(p,t,r)\n",
    "obj.cal()"
   ]
  },
  {
   "cell_type": "code",
   "execution_count": 5,
   "id": "8cc43096",
   "metadata": {},
   "outputs": [
    {
     "name": "stdout",
     "output_type": "stream",
     "text": [
      "enter l = 5\n",
      "enter b = 4\n",
      "enter h = 7\n",
      "140\n",
      "20\n"
     ]
    }
   ],
   "source": [
    "class Calc:\n",
    "    def __init__(self,l,b):\n",
    "        self.ll=l\n",
    "        self.bb=b\n",
    "    def vol(self,h):\n",
    "        v=self.ll*self.bb*h\n",
    "        print(v)\n",
    "    def area(self):           #used to access variables in function\n",
    "        a=self.ll*self.bb\n",
    "        print(a)\n",
    "l=int(input(\"enter l = \"))\n",
    "b=int(input(\"enter b = \"))\n",
    "h=int(input(\"enter h = \"))\n",
    "obj=Calc(l,b)\n",
    "obj.vol(h)\n",
    "obj.area()"
   ]
  },
  {
   "cell_type": "code",
   "execution_count": null,
   "id": "eee4cdfb",
   "metadata": {},
   "outputs": [],
   "source": []
  },
  {
   "cell_type": "code",
   "execution_count": null,
   "id": "e055047f",
   "metadata": {},
   "outputs": [],
   "source": []
  }
 ],
 "metadata": {
  "kernelspec": {
   "display_name": "Python 3 (ipykernel)",
   "language": "python",
   "name": "python3"
  },
  "language_info": {
   "codemirror_mode": {
    "name": "ipython",
    "version": 3
   },
   "file_extension": ".py",
   "mimetype": "text/x-python",
   "name": "python",
   "nbconvert_exporter": "python",
   "pygments_lexer": "ipython3",
   "version": "3.9.12"
  }
 },
 "nbformat": 4,
 "nbformat_minor": 5
}
