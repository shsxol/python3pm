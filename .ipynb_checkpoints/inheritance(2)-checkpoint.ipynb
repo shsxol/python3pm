{
 "cells": [
  {
   "cell_type": "code",
   "execution_count": null,
   "id": "3f35c4b1",
   "metadata": {},
   "outputs": [],
   "source": [
    "#inheritance"
   ]
  },
  {
   "cell_type": "code",
   "execution_count": 8,
   "id": "f7431b59",
   "metadata": {},
   "outputs": [
    {
     "name": "stdout",
     "output_type": "stream",
     "text": [
      "smile\n",
      "15\n",
      "ktm\n"
     ]
    }
   ],
   "source": [
    "#public members     = no underscore\n",
    "class Info:\n",
    "    def __init__(self):\n",
    "        self.name=\"smile\"\n",
    "        self.age=15\n",
    "        self.add=\"ktm\"\n",
    "obj=Info()\n",
    "print(obj.name)\n",
    "print(obj.age)\n",
    "print(obj.add)"
   ]
  },
  {
   "cell_type": "code",
   "execution_count": 3,
   "id": "30ca3bbe",
   "metadata": {},
   "outputs": [
    {
     "name": "stdout",
     "output_type": "stream",
     "text": [
      "smile\n",
      "15\n",
      "ktm\n"
     ]
    }
   ],
   "source": [
    "#protected members   =1 underscore\n",
    "class Info:\n",
    "    def __init__(self):\n",
    "        self._name=\"smile\"\n",
    "        self._age=15\n",
    "        self._add=\"ktm\"\n",
    "obj=Info()\n",
    "print(obj._name)\n",
    "print(obj._age)\n",
    "print(obj._add)"
   ]
  },
  {
   "cell_type": "code",
   "execution_count": 4,
   "id": "2b8117e0",
   "metadata": {},
   "outputs": [
    {
     "ename": "AttributeError",
     "evalue": "'Info' object has no attribute '__name'",
     "output_type": "error",
     "traceback": [
      "\u001b[1;31m---------------------------------------------------------------------------\u001b[0m",
      "\u001b[1;31mAttributeError\u001b[0m                            Traceback (most recent call last)",
      "Input \u001b[1;32mIn [4]\u001b[0m, in \u001b[0;36m<cell line: 8>\u001b[1;34m()\u001b[0m\n\u001b[0;32m      6\u001b[0m         \u001b[38;5;28mself\u001b[39m\u001b[38;5;241m.\u001b[39m__add\u001b[38;5;241m=\u001b[39m\u001b[38;5;124m\"\u001b[39m\u001b[38;5;124mktm\u001b[39m\u001b[38;5;124m\"\u001b[39m\n\u001b[0;32m      7\u001b[0m obj\u001b[38;5;241m=\u001b[39mInfo()\n\u001b[1;32m----> 8\u001b[0m \u001b[38;5;28mprint\u001b[39m(\u001b[43mobj\u001b[49m\u001b[38;5;241;43m.\u001b[39;49m\u001b[43m__name\u001b[49m)\n\u001b[0;32m      9\u001b[0m \u001b[38;5;28mprint\u001b[39m(obj\u001b[38;5;241m.\u001b[39m__age)\n\u001b[0;32m     10\u001b[0m \u001b[38;5;28mprint\u001b[39m(obj\u001b[38;5;241m.\u001b[39m__add)\n",
      "\u001b[1;31mAttributeError\u001b[0m: 'Info' object has no attribute '__name'"
     ]
    }
   ],
   "source": [
    "#private members  = 2 underscore\n",
    "class Info:\n",
    "    def __init__(self):\n",
    "        self.__name=\"smile\"\n",
    "        self.__age=15\n",
    "        self.__add=\"ktm\"\n",
    "obj=Info()\n",
    "print(obj.__name)\n",
    "print(obj.__age)\n",
    "print(obj.__add)"
   ]
  },
  {
   "cell_type": "code",
   "execution_count": 7,
   "id": "4146f17a",
   "metadata": {},
   "outputs": [
    {
     "name": "stdout",
     "output_type": "stream",
     "text": [
      "enter name = smile\n",
      "enter age =15\n",
      "hello i'm smile \n",
      "i'm 15\n"
     ]
    }
   ],
   "source": [
    "class A:\n",
    "    def __init__(self,name,age):\n",
    "        self._name=\"smile\"\n",
    "        self.__age=15 \n",
    "    def a(self):\n",
    "        print(f\"i'm {self.__age}\")\n",
    "class B(A):\n",
    "    def info(self):\n",
    "        print(f\"hello i'm {self._name} \")\n",
    "name=input(\"enter name = \")\n",
    "age=int(input(\"enter age =\"))\n",
    "obj = B(name,age)\n",
    "obj.info()\n",
    "obj.a()"
   ]
  },
  {
   "cell_type": "code",
   "execution_count": null,
   "id": "b36adcbf",
   "metadata": {},
   "outputs": [],
   "source": []
  }
 ],
 "metadata": {
  "kernelspec": {
   "display_name": "Python 3 (ipykernel)",
   "language": "python",
   "name": "python3"
  },
  "language_info": {
   "codemirror_mode": {
    "name": "ipython",
    "version": 3
   },
   "file_extension": ".py",
   "mimetype": "text/x-python",
   "name": "python",
   "nbconvert_exporter": "python",
   "pygments_lexer": "ipython3",
   "version": "3.9.12"
  }
 },
 "nbformat": 4,
 "nbformat_minor": 5
}
