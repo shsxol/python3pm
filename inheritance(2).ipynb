{
 "cells": [
  {
   "cell_type": "code",
   "execution_count": null,
   "id": "74470e5f",
   "metadata": {},
   "outputs": [],
   "source": [
    "#inheritance"
   ]
  },
  {
   "cell_type": "code",
   "execution_count": 8,
   "id": "b1c92c91",
   "metadata": {},
   "outputs": [
    {
     "name": "stdout",
     "output_type": "stream",
     "text": [
      "smile\n",
      "15\n",
      "ktm\n"
     ]
    }
   ],
   "source": [
    "#public members     = no underscore\n",
    "class Info:\n",
    "    def __init__(self):\n",
    "        self.name=\"smile\"\n",
    "        self.age=15\n",
    "        self.add=\"ktm\"\n",
    "obj=Info()\n",
    "print(obj.name)\n",
    "print(obj.age)\n",
    "print(obj.add)"
   ]
  },
  {
   "cell_type": "code",
   "execution_count": 3,
   "id": "d2f6300a",
   "metadata": {},
   "outputs": [
    {
     "name": "stdout",
     "output_type": "stream",
     "text": [
      "smile\n",
      "15\n",
      "ktm\n"
     ]
    }
   ],
   "source": [
    "#protected members   =1 underscore\n",
    "class Info:\n",
    "    def __init__(self):\n",
    "        self._name=\"smile\"\n",
    "        self._age=15\n",
    "        self._add=\"ktm\"\n",
    "obj=Info()\n",
    "print(obj._name)\n",
    "print(obj._age)\n",
    "print(obj._add)"
   ]
  },
  {
   "cell_type": "code",
   "execution_count": 4,
   "id": "923b06d5",
   "metadata": {},
   "outputs": [
    {
     "ename": "AttributeError",
     "evalue": "'Info' object has no attribute '__name'",
     "output_type": "error",
     "traceback": [
      "\u001b[1;31m---------------------------------------------------------------------------\u001b[0m",
      "\u001b[1;31mAttributeError\u001b[0m                            Traceback (most recent call last)",
      "Input \u001b[1;32mIn [4]\u001b[0m, in \u001b[0;36m<cell line: 8>\u001b[1;34m()\u001b[0m\n\u001b[0;32m      6\u001b[0m         \u001b[38;5;28mself\u001b[39m\u001b[38;5;241m.\u001b[39m__add\u001b[38;5;241m=\u001b[39m\u001b[38;5;124m\"\u001b[39m\u001b[38;5;124mktm\u001b[39m\u001b[38;5;124m\"\u001b[39m\n\u001b[0;32m      7\u001b[0m obj\u001b[38;5;241m=\u001b[39mInfo()\n\u001b[1;32m----> 8\u001b[0m \u001b[38;5;28mprint\u001b[39m(\u001b[43mobj\u001b[49m\u001b[38;5;241;43m.\u001b[39;49m\u001b[43m__name\u001b[49m)\n\u001b[0;32m      9\u001b[0m \u001b[38;5;28mprint\u001b[39m(obj\u001b[38;5;241m.\u001b[39m__age)\n\u001b[0;32m     10\u001b[0m \u001b[38;5;28mprint\u001b[39m(obj\u001b[38;5;241m.\u001b[39m__add)\n",
      "\u001b[1;31mAttributeError\u001b[0m: 'Info' object has no attribute '__name'"
     ]
    }
   ],
   "source": [
    "#private members  = 2 underscore\n",
    "class Info:\n",
    "    def __init__(self):\n",
    "        self.__name=\"smile\"\n",
    "        self.__age=15\n",
    "        self.__add=\"ktm\"\n",
    "obj=Info()\n",
    "print(obj.__name)\n",
    "print(obj.__age)\n",
    "print(obj.__add)"
   ]
  },
  {
   "cell_type": "code",
   "execution_count": 7,
   "id": "c592e020",
   "metadata": {},
   "outputs": [
    {
     "name": "stdout",
     "output_type": "stream",
     "text": [
      "enter name = smile\n",
      "enter age =15\n",
      "hello i'm smile \n",
      "i'm 15\n"
     ]
    }
   ],
   "source": [
    "class A:\n",
    "    def __init__(self,name,age):\n",
    "        self._name=\"smile\"\n",
    "        self.__age=15 \n",
    "    def a(self):\n",
    "        print(f\"i'm {self.__age}\")\n",
    "class B(A):\n",
    "    def info(self):\n",
    "        print(f\"hello i'm {self._name} \")\n",
    "name=input(\"enter name = \")\n",
    "age=int(input(\"enter age =\"))\n",
    "obj = B(name,age)\n",
    "obj.info()\n",
    "obj.a()"
   ]
  },
  {
   "cell_type": "code",
   "execution_count": 9,
   "id": "9403f299",
   "metadata": {},
   "outputs": [
    {
     "name": "stdout",
     "output_type": "stream",
     "text": [
      "enter name = smile\n",
      "enter age = 17\n",
      "enter address = ktm\n",
      "enter phone = 9880104631\n",
      "my name is smile of age 17 from ktm and my phone is 9880104631\n"
     ]
    }
   ],
   "source": [
    "#multi-level inheritance\n",
    "class A:\n",
    "    def __init__(self,name,phone):\n",
    "        self._name=name\n",
    "        self.__phone=phone\n",
    "    def my_phone(self):\n",
    "        return self.__phone\n",
    "class B:\n",
    "    def __init__(self,age):\n",
    "        self._age=age\n",
    "class C(A,B):\n",
    "    def __init__(self,name,age,add,phone):\n",
    "        self.__add=add\n",
    "        A.__init__(self,name,phone)\n",
    "        B.__init__(self,age)\n",
    "    def info(self):\n",
    "        print(f\"my name is {self._name} of age {self._age} from {self.__add} and my phone is {super().my_phone()}\")\n",
    "                                                                                             #\n",
    "name=input(\"enter name = \")\n",
    "age=int(input(\"enter age = \"))\n",
    "add=input(\"enter address = \")\n",
    "phone=int(input(\"enter phone = \"))\n",
    "\n",
    "obj=C(name,age,add,phone)\n",
    "obj.info()"
   ]
  },
  {
   "cell_type": "code",
   "execution_count": 10,
   "id": "4813b0bf",
   "metadata": {},
   "outputs": [
    {
     "name": "stdout",
     "output_type": "stream",
     "text": [
      "enter name = smile\n",
      "enter age = 17\n",
      "enter add = btl\n",
      "hello i am smile of age 17 from btl\n"
     ]
    }
   ],
   "source": [
    "#multiple inheritance\n",
    "class A:\n",
    "    def __init__(self,add):\n",
    "        self._add=add            #_add is protected\n",
    "\n",
    "class B(A):\n",
    "    def __init__(self,age,add):\n",
    "        self._age=age            #_age is protected\n",
    "        A.__init__(self,add)\n",
    "class C(B):\n",
    "    def __init__(self,name,age,add):\n",
    "        self.__name=name         #__name is private\n",
    "        B.__init__(self,age,add)\n",
    "        \n",
    "    def info(self):\n",
    "        print(f\"hello i am {self.__name} of age {self._age} from {self._add}\")\n",
    "        \n",
    "name=input(\"enter name = \")\n",
    "age=int(input(\"enter age = \"))\n",
    "add=input(\"enter add = \")\n",
    "\n",
    "obj=C(name,age,add)\n",
    "obj.info()"
   ]
  },
  {
   "cell_type": "code",
   "execution_count": null,
   "id": "2fd9eb31",
   "metadata": {},
   "outputs": [],
   "source": []
  }
 ],
 "metadata": {
  "kernelspec": {
   "display_name": "Python 3 (ipykernel)",
   "language": "python",
   "name": "python3"
  },
  "language_info": {
   "codemirror_mode": {
    "name": "ipython",
    "version": 3
   },
   "file_extension": ".py",
   "mimetype": "text/x-python",
   "name": "python",
   "nbconvert_exporter": "python",
   "pygments_lexer": "ipython3",
   "version": "3.9.12"
  }
 },
 "nbformat": 4,
 "nbformat_minor": 5
}
