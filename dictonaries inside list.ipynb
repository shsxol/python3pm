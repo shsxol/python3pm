{
 "cells": [
  {
   "cell_type": "code",
   "execution_count": 3,
   "id": "aadabbfc",
   "metadata": {},
   "outputs": [
    {
     "data": {
      "text/plain": [
       "[{'name': 'ram', 'age': 34, 'add': 'ktm'},\n",
       " {'name': 'smile', 'age': 16, 'add': 'ktm'},\n",
       " {'name': 'shakti', 'age': 21, 'add': 'ktm'}]"
      ]
     },
     "execution_count": 3,
     "metadata": {},
     "output_type": "execute_result"
    }
   ],
   "source": [
    "#dict inside list\n",
    "#if the big bracket outside then just think that as list \n",
    "#that's why we can append in the list\n",
    "l=[{'name':'ram','age':34,'add':'ktm'},\n",
    "  {'name':'smile','age':16,'add':'ktm'},\n",
    "  {'name':'shakti','age':21,'add':'ktm'}]\n",
    "l"
   ]
  },
  {
   "cell_type": "code",
   "execution_count": 4,
   "id": "1439dad8",
   "metadata": {},
   "outputs": [
    {
     "name": "stdout",
     "output_type": "stream",
     "text": [
      "enter the number = 2\n",
      "enter name = smile\n",
      "enter age = 16\n",
      "enter the address = ktm\n",
      "enter name = shakti\n",
      "enter age = 21\n",
      "enter the address = lalitpur\n"
     ]
    },
    {
     "data": {
      "text/plain": [
       "[{'name': 'smile', 'age': 16, 'address': 'ktm'},\n",
       " {'name': 'shakti', 'age': 21, 'address': 'lalitpur'}]"
      ]
     },
     "execution_count": 4,
     "metadata": {},
     "output_type": "execute_result"
    }
   ],
   "source": [
    "data=[]\n",
    "n=int(input(\"enter the number = \"))\n",
    "for i in range(n):\n",
    "    name=input(\"enter name = \")\n",
    "    age=int(input(\"enter age = \"))\n",
    "    address=input(\"enter the address = \")\n",
    "    info={'name':name,'age':age,'address':address}\n",
    "    data.append(info)\n",
    "data"
   ]
  },
  {
   "cell_type": "code",
   "execution_count": 9,
   "id": "21de0187",
   "metadata": {},
   "outputs": [
    {
     "data": {
      "text/plain": [
       "[{'name': 'smile', 'age': 16, 'address': 'ktm'},\n",
       " {'name': 'shakti', 'age': 21, 'address': 'lalitpur'},\n",
       " {'name': 'sparsh', 'age': 15, 'address': 'btl'}]"
      ]
     },
     "execution_count": 9,
     "metadata": {},
     "output_type": "execute_result"
    }
   ],
   "source": [
    "data=[{'name':'smile','age':16,'address':'ktm'},\n",
    "     {'name':'shakti','age':21,'address':'lalitpur'}]\n",
    "data.append({'name':'sparsh','age':15,'address':'btl'})\n",
    "data"
   ]
  },
  {
   "cell_type": "code",
   "execution_count": 10,
   "id": "2ad3cc62",
   "metadata": {},
   "outputs": [
    {
     "name": "stdout",
     "output_type": "stream",
     "text": [
      "{'name': 'smile', 'age': 16, 'address': 'ktm'}\n"
     ]
    }
   ],
   "source": [
    "print(data[0])"
   ]
  },
  {
   "cell_type": "code",
   "execution_count": 11,
   "id": "537ca274",
   "metadata": {},
   "outputs": [
    {
     "name": "stdout",
     "output_type": "stream",
     "text": [
      "{'name': 'shakti', 'age': 21, 'address': 'lalitpur'}\n"
     ]
    }
   ],
   "source": [
    "print(data[1])"
   ]
  },
  {
   "cell_type": "code",
   "execution_count": 12,
   "id": "dedad17f",
   "metadata": {},
   "outputs": [
    {
     "name": "stdout",
     "output_type": "stream",
     "text": [
      "{'name': 'sparsh', 'age': 15, 'address': 'btl'}\n"
     ]
    }
   ],
   "source": [
    "print(data[2])"
   ]
  },
  {
   "cell_type": "code",
   "execution_count": 13,
   "id": "2a70c913",
   "metadata": {},
   "outputs": [
    {
     "name": "stdout",
     "output_type": "stream",
     "text": [
      "smile\n"
     ]
    }
   ],
   "source": [
    "print(data[0]['name'])"
   ]
  },
  {
   "cell_type": "code",
   "execution_count": 14,
   "id": "283fc376",
   "metadata": {},
   "outputs": [
    {
     "data": {
      "text/plain": [
       "[{'name': 'sus', 'age': 16, 'address': 'ktm'},\n",
       " {'name': 'shakti', 'age': 21, 'address': 'lalitpur'},\n",
       " {'name': 'sparsh', 'age': 15, 'address': 'btl'}]"
      ]
     },
     "execution_count": 14,
     "metadata": {},
     "output_type": "execute_result"
    }
   ],
   "source": [
    "#this kind of data basically used in web developing\n",
    "data[0]['name']='sus'        \n",
    "\n",
    "data"
   ]
  },
  {
   "cell_type": "code",
   "execution_count": 15,
   "id": "2e63ee6e",
   "metadata": {},
   "outputs": [
    {
     "data": {
      "text/plain": [
       "[{'age': 16, 'address': 'ktm'},\n",
       " {'name': 'shakti', 'age': 21, 'address': 'lalitpur'},\n",
       " {'name': 'sparsh', 'age': 15, 'address': 'btl'}]"
      ]
     },
     "execution_count": 15,
     "metadata": {},
     "output_type": "execute_result"
    }
   ],
   "source": [
    "del data[0]['name'] #del is just to delete the any index from the list\n",
    "data"
   ]
  },
  {
   "cell_type": "code",
   "execution_count": 18,
   "id": "402f3868",
   "metadata": {},
   "outputs": [
    {
     "data": {
      "text/plain": [
       "{1: {'name': 'smile', 'age': 15, 'address': 'ktm'},\n",
       " 2: {'name': 'shakti', 'age': 21, 'address': 'lalitpur'},\n",
       " 3: {'name': 'sparsh', 'age': 15, 'address': 'btl'}}"
      ]
     },
     "execution_count": 18,
     "metadata": {},
     "output_type": "execute_result"
    }
   ],
   "source": [
    "#dictoniaries inside dictionaries\n",
    "a={1:{'name':'smile','age':15,'address':'ktm'},\n",
    "  2:{'name':'shakti','age':21,'address':'lalitpur'},\n",
    "  3:{'name':'sparsh','age':15,'address':'btl'}}\n",
    "a"
   ]
  },
  {
   "cell_type": "code",
   "execution_count": 24,
   "id": "106bce80",
   "metadata": {},
   "outputs": [
    {
     "name": "stdout",
     "output_type": "stream",
     "text": [
      "enter n = 2\n",
      "enter name = smile\n",
      "enter age = 15\n",
      "enter address = btl\n",
      "enter name = shakti\n",
      "enter age = 21\n",
      "enter address = lalitpur\n",
      "{1: {'name': 'smile', 'age': 15, 'address': 'btl'}, 2: {'name': 'shakti', 'age': 21, 'address': 'lalitpur'}}\n"
     ]
    }
   ],
   "source": [
    "d={}\n",
    "n=int(input(\"enter n = \"))\n",
    "for i in range(1,n+1):\n",
    "    name=input(\"enter name = \")\n",
    "    age=int(input(\"enter age = \"))\n",
    "    address=input(\"enter address = \")\n",
    "    info={'name':name,'age':age,'address':address }\n",
    "    d[i]=info\n",
    "print(d)"
   ]
  },
  {
   "cell_type": "code",
   "execution_count": 32,
   "id": "58728707",
   "metadata": {},
   "outputs": [
    {
     "data": {
      "text/plain": [
       "{1: {'name': 'smile', 'age': 15, 'address': 'ktm'},\n",
       " 2: {'name': 'shakti', 'age': 21, 'address': 'lalitpur'},\n",
       " 3: {'name': 'sparsh', 'age': 15, 'address': 'btl'}}"
      ]
     },
     "execution_count": 32,
     "metadata": {},
     "output_type": "execute_result"
    }
   ],
   "source": [
    "a={1: {'name': 'smile', 'age': 15, 'address': 'ktm'}, 2: {'name': 'shakti', 'age': 21, 'address': 'lalitpur'}}\n",
    "a[3]={'name':'sparsh','age':15,'address':'btl'}\n",
    "a"
   ]
  },
  {
   "cell_type": "code",
   "execution_count": 33,
   "id": "041089ff",
   "metadata": {},
   "outputs": [
    {
     "data": {
      "text/plain": [
       "{1: {'name': 'apis', 'age': 15, 'address': 'ktm'},\n",
       " 2: {'name': 'shakti', 'age': 21, 'address': 'lalitpur'},\n",
       " 3: {'name': 'sparsh', 'age': 15, 'address': 'btl'}}"
      ]
     },
     "execution_count": 33,
     "metadata": {},
     "output_type": "execute_result"
    }
   ],
   "source": [
    "a[1]['name']='apis'\n",
    "a"
   ]
  },
  {
   "cell_type": "code",
   "execution_count": 35,
   "id": "875a2426",
   "metadata": {},
   "outputs": [
    {
     "name": "stdout",
     "output_type": "stream",
     "text": [
      "enter hte phone number = 652\n",
      "enter hte phone number = 15\n",
      "enter hte phone number = 54\n",
      "{1: {'name': 'apis', 'age': 15, 'address': 'ktm', 'phone': 652}, 2: {'name': 'shakti', 'age': 21, 'address': 'lalitpur', 'phone': 15}, 3: {'name': 'sparsh', 'age': 15, 'address': 'btl', 'phone': 54}}\n"
     ]
    }
   ],
   "source": [
    "for i in a.values():\n",
    "    phone=int(input(\"enter hte phone number = \"))\n",
    "    i['phone']=phone\n",
    "print(a)"
   ]
  },
  {
   "cell_type": "code",
   "execution_count": null,
   "id": "25877509",
   "metadata": {},
   "outputs": [],
   "source": []
  }
 ],
 "metadata": {
  "kernelspec": {
   "display_name": "Python 3 (ipykernel)",
   "language": "python",
   "name": "python3"
  },
  "language_info": {
   "codemirror_mode": {
    "name": "ipython",
    "version": 3
   },
   "file_extension": ".py",
   "mimetype": "text/x-python",
   "name": "python",
   "nbconvert_exporter": "python",
   "pygments_lexer": "ipython3",
   "version": "3.9.12"
  }
 },
 "nbformat": 4,
 "nbformat_minor": 5
}
