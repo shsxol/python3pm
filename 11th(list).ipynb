{
 "cells": [
  {
   "cell_type": "code",
   "execution_count": 1,
   "id": "dd31ba8a",
   "metadata": {},
   "outputs": [
    {
     "name": "stdout",
     "output_type": "stream",
     "text": [
      "[[1, 2, 3], [5, 6, 7], [3, 5, 1]]\n"
     ]
    }
   ],
   "source": [
    "#list inside list\n",
    "a=[[1,2,3],\n",
    "  [5,6,7],\n",
    "  [3,5,1]]\n",
    "print(a)"
   ]
  },
  {
   "cell_type": "code",
   "execution_count": 3,
   "id": "cf0380a2",
   "metadata": {},
   "outputs": [
    {
     "name": "stdout",
     "output_type": "stream",
     "text": [
      "<class 'list'>\n"
     ]
    }
   ],
   "source": [
    "print(type(a))"
   ]
  },
  {
   "cell_type": "code",
   "execution_count": 4,
   "id": "7ca2929a",
   "metadata": {},
   "outputs": [
    {
     "name": "stdout",
     "output_type": "stream",
     "text": [
      "[1, 2, 3]\n"
     ]
    }
   ],
   "source": [
    "a=[[1, 2, 3], [5, 6, 7], [3, 5, 1]]\n",
    "print(a[0])"
   ]
  },
  {
   "cell_type": "code",
   "execution_count": 5,
   "id": "c686b4c9",
   "metadata": {},
   "outputs": [
    {
     "name": "stdout",
     "output_type": "stream",
     "text": [
      "1\n"
     ]
    }
   ],
   "source": [
    "print(a[0][0]) #to print list ko vhitra ko ni bhitra ko element"
   ]
  },
  {
   "cell_type": "code",
   "execution_count": 6,
   "id": "5b73cbce",
   "metadata": {},
   "outputs": [
    {
     "name": "stdout",
     "output_type": "stream",
     "text": [
      "2\n"
     ]
    }
   ],
   "source": [
    "print(a[0][1])"
   ]
  },
  {
   "cell_type": "code",
   "execution_count": 7,
   "id": "bde38f92",
   "metadata": {},
   "outputs": [
    {
     "name": "stdout",
     "output_type": "stream",
     "text": [
      "5\n"
     ]
    }
   ],
   "source": [
    "print(a[1][0])"
   ]
  },
  {
   "cell_type": "code",
   "execution_count": 8,
   "id": "7c2e971a",
   "metadata": {},
   "outputs": [
    {
     "name": "stdout",
     "output_type": "stream",
     "text": [
      "5\n"
     ]
    }
   ],
   "source": [
    "print(a[2][1])"
   ]
  },
  {
   "cell_type": "code",
   "execution_count": 9,
   "id": "fb347628",
   "metadata": {},
   "outputs": [
    {
     "data": {
      "text/plain": [
       "[['ram', 34, 'ktm'], ['smile', 15, 'btl'], ['shakti', 24, 'lalitpur']]"
      ]
     },
     "execution_count": 9,
     "metadata": {},
     "output_type": "execute_result"
    }
   ],
   "source": [
    "a=[[\"ram\",34,\"ktm\"],\n",
    "  [\"smile\",15,\"btl\"],\n",
    "  [\"shakti\",24,\"lalitpur\"]]\n",
    "a"
   ]
  },
  {
   "cell_type": "code",
   "execution_count": 23,
   "id": "5ab5da6d",
   "metadata": {},
   "outputs": [
    {
     "name": "stdout",
     "output_type": "stream",
     "text": [
      "enter the value of n = 5\n",
      "enter the name = smile\n",
      "enter the age = 5\n",
      "enter the address = btl\n",
      "enter the name = shakti\n",
      "enter the age = 2\n",
      "enter the address = lalit\n",
      "enter the name = dri\n",
      "enter the age = 5\n",
      "enter the address = bhak\n",
      "enter the name = asti\n",
      "enter the age = 6\n",
      "enter the address = buddha\n",
      "enter the name = aska\n",
      "enter the age = 6\n",
      "enter the address = ssh\n",
      "[['smile', 5, 'btl'], ['shakti', 2, 'lalit'], ['dri', 5, 'bhak'], ['asti', 6, 'buddha'], ['aska', 6, 'ssh']]\n"
     ]
    }
   ],
   "source": [
    "a=[]\n",
    "n=int(input(\"enter the value of n = \"))\n",
    "for i in range(n):\n",
    "    name=input(\"enter the name = \")\n",
    "    age=int(input(\"enter the age = \"))\n",
    "    add=input(\"enter the address = \")\n",
    "    i=[name,age,add]\n",
    "    a.append(i)\n",
    "    \n",
    "print(a)"
   ]
  },
  {
   "cell_type": "code",
   "execution_count": 13,
   "id": "5932ec89",
   "metadata": {},
   "outputs": [
    {
     "data": {
      "text/plain": [
       "['smile', 5, 'btl']"
      ]
     },
     "execution_count": 13,
     "metadata": {},
     "output_type": "execute_result"
    }
   ],
   "source": [
    "a=[['smile', 5, 'btl'], ['shakti', 6, 'lalitpur']]\n",
    "a[0]"
   ]
  },
  {
   "cell_type": "code",
   "execution_count": 14,
   "id": "88d1165c",
   "metadata": {},
   "outputs": [
    {
     "data": {
      "text/plain": [
       "['shakti', 6, 'lalitpur']"
      ]
     },
     "execution_count": 14,
     "metadata": {},
     "output_type": "execute_result"
    }
   ],
   "source": [
    "a[1]"
   ]
  },
  {
   "cell_type": "code",
   "execution_count": 15,
   "id": "68dc59b5",
   "metadata": {},
   "outputs": [
    {
     "data": {
      "text/plain": [
       "'lalitpur'"
      ]
     },
     "execution_count": 15,
     "metadata": {},
     "output_type": "execute_result"
    }
   ],
   "source": [
    "a[1][2]"
   ]
  },
  {
   "cell_type": "code",
   "execution_count": 16,
   "id": "fe66bd91",
   "metadata": {},
   "outputs": [
    {
     "data": {
      "text/plain": [
       "'btl'"
      ]
     },
     "execution_count": 16,
     "metadata": {},
     "output_type": "execute_result"
    }
   ],
   "source": [
    "a[0][2]"
   ]
  },
  {
   "cell_type": "code",
   "execution_count": 17,
   "id": "1dc6cf86",
   "metadata": {},
   "outputs": [
    {
     "data": {
      "text/plain": [
       "[['smile', 15, 'ktm'], ['shakti', 6, 'lalitpur']]"
      ]
     },
     "execution_count": 17,
     "metadata": {},
     "output_type": "execute_result"
    }
   ],
   "source": [
    "a=[['smile', 5, 'btl'], ['shakti', 6, 'lalitpur']]\n",
    "a[0]=[\"smile\",15,\"ktm\"]\n",
    "a"
   ]
  },
  {
   "cell_type": "code",
   "execution_count": 19,
   "id": "d4c86dbe",
   "metadata": {},
   "outputs": [
    {
     "name": "stdout",
     "output_type": "stream",
     "text": [
      "enter name = smile\n",
      "['smile', 5, 'btl']\n"
     ]
    }
   ],
   "source": [
    "a=[['smile', 5, 'btl'], ['shakti', 6, 'lalitpur']]\n",
    "search=input(\"enter name = \")\n",
    "for i in a: \n",
    "    if search in i: #if given search is in a or not\n",
    "        print(i)"
   ]
  },
  {
   "cell_type": "code",
   "execution_count": 22,
   "id": "3ef1ea3c",
   "metadata": {},
   "outputs": [
    {
     "name": "stdout",
     "output_type": "stream",
     "text": [
      "enter name = smile\n",
      "enter name = shakti\n"
     ]
    }
   ],
   "source": [
    "a=[['smile', 5, 'btl'], ['shakti', 6, 'lalitpur']]\n",
    "l=len(a)\n",
    "for i in range(l):\n",
    "    search=input(\"enter name = \")\n",
    "    if search in a:\n",
    "        print(a)"
   ]
  },
  {
   "cell_type": "code",
   "execution_count": 27,
   "id": "25f594b8",
   "metadata": {},
   "outputs": [
    {
     "name": "stdout",
     "output_type": "stream",
     "text": [
      "enter name = dri\n",
      "['dri', 5, 'bhak']\n",
      "there are 1 dri\n"
     ]
    }
   ],
   "source": [
    "a=[['smile', 5, 'btl'], ['shakti', 2, 'lalit'], ['dri', 5, 'bhak'], ['asti', 6, 'buddha'], ['aska', 6, 'ssh']]\n",
    "search=input(\"enter name = \")\n",
    "c=0\n",
    "for i in a:\n",
    "    if search in i:\n",
    "        c+=1\n",
    "        print(i)\n",
    "print(f\"there are {c}\",search)"
   ]
  },
  {
   "cell_type": "code",
   "execution_count": 28,
   "id": "4a9be89f",
   "metadata": {},
   "outputs": [],
   "source": [
    "#WAP to create a list inside list with row and column\n",
    "#r=?\n",
    "#c=?\n",
    "#[[1,2,3],\n",
    "# [4,5,6],\n",
    "# [6,8,9]]"
   ]
  },
  {
   "cell_type": "code",
   "execution_count": 3,
   "id": "c3532eb9",
   "metadata": {},
   "outputs": [
    {
     "name": "stdout",
     "output_type": "stream",
     "text": [
      "enter row = 3\n",
      "enter column = 2\n",
      "enter x = 5\n",
      "enter x = 6\n",
      "enter x = 6\n",
      "enter x = 4\n",
      "enter x = 5\n",
      "enter x = 6\n",
      "[['5', '6'], ['6', '4'], ['5', '6']]\n"
     ]
    }
   ],
   "source": [
    "a=[]\n",
    "m= int(input(\"enter row = \"))\n",
    "n= int(input(\"enter column = \"))\n",
    "for i in range(m):\n",
    "    y=[] #at first assign in y list for element in column\n",
    "    for j in range(n):\n",
    "        x=input(\"enter x = \")\n",
    "        y.append(x) #assigns the data of x in y[] list\n",
    "    a.append(y) #again assigns the data that was in y[] list in a[] list\n",
    "print(a)"
   ]
  },
  {
   "cell_type": "code",
   "execution_count": 4,
   "id": "b1bc99cc",
   "metadata": {},
   "outputs": [],
   "source": [
    "#comprehension  in list is important\n"
   ]
  },
  {
   "cell_type": "code",
   "execution_count": 6,
   "id": "b070d190",
   "metadata": {},
   "outputs": [
    {
     "data": {
      "text/plain": [
       "[0, 1, 2, 3, 4]"
      ]
     },
     "execution_count": 6,
     "metadata": {},
     "output_type": "execute_result"
    }
   ],
   "source": [
    "a=[i for i in range(5)]\n",
    "a"
   ]
  },
  {
   "cell_type": "code",
   "execution_count": 12,
   "id": "1a50325f",
   "metadata": {},
   "outputs": [
    {
     "data": {
      "text/plain": [
       "[1, 2, 3, 4, 5, 6, 7, 8, 9, 10, 11, 12, 13, 14, 15, 16, 17, 18, 19, 20]"
      ]
     },
     "execution_count": 12,
     "metadata": {},
     "output_type": "execute_result"
    }
   ],
   "source": [
    "a=[i for i in range(1,21)]\n",
    "a"
   ]
  },
  {
   "cell_type": "code",
   "execution_count": 17,
   "id": "19a108f3",
   "metadata": {},
   "outputs": [
    {
     "data": {
      "text/plain": [
       "[10, 20, 30, 40]"
      ]
     },
     "execution_count": 17,
     "metadata": {},
     "output_type": "execute_result"
    }
   ],
   "source": [
    "a=[i for i in range(1,50) if i%10==0] #this kind of syntax is used in algebric mathematical problem in mathematics\n",
    "a"
   ]
  },
  {
   "cell_type": "code",
   "execution_count": 22,
   "id": "3b4bd183",
   "metadata": {},
   "outputs": [
    {
     "name": "stdout",
     "output_type": "stream",
     "text": [
      "['dog', 'python', 'anaaconda']\n",
      "['CAT', 'FROG']\n"
     ]
    }
   ],
   "source": [
    "a=[\"CAT\",\"FROG\",\"cOw\",\"dog\",\"python\",\"anaaconda\"]\n",
    "b=[i for i in a if i.islower()]\n",
    "c=[i for i in a if i.isupper()]\n",
    "print(b)\n",
    "print(c)"
   ]
  },
  {
   "cell_type": "code",
   "execution_count": 24,
   "id": "1ab6b81c",
   "metadata": {},
   "outputs": [
    {
     "name": "stdout",
     "output_type": "stream",
     "text": [
      "enter the no of items = 2\n",
      "enter the name of the item = shakti\n",
      "enter the price = 10\n",
      "enter the quantity of product = 2\n",
      "enter the name of the item = smile\n",
      "enter the price = 1000\n",
      "enter the quantity of product = 2\n",
      "[['shakti', 10, 2, 20], ['smile', 1000, 2, 2000]]\n"
     ]
    }
   ],
   "source": [
    "#WAP to create a billing system using list inside list\n",
    "bill=[] #empty list\n",
    "n=int(input(\"enter the no of items = \"))\n",
    "for i in range(n):\n",
    "    x=input(\"enter the name of the item = \")\n",
    "    y=int(input(\"enter the price = \"))\n",
    "    z=int(input(\"enter the quantity of product = \"))\n",
    "    total=y*z\n",
    "    info=[x,y,z,total] #assigning the items into the list\n",
    "    bill.append(info) #append = means it puts the content of list from back like as in stack\n",
    "print(bill)"
   ]
  },
  {
   "cell_type": "code",
   "execution_count": null,
   "id": "f5bd8260",
   "metadata": {},
   "outputs": [],
   "source": []
  }
 ],
 "metadata": {
  "kernelspec": {
   "display_name": "Python 3 (ipykernel)",
   "language": "python",
   "name": "python3"
  },
  "language_info": {
   "codemirror_mode": {
    "name": "ipython",
    "version": 3
   },
   "file_extension": ".py",
   "mimetype": "text/x-python",
   "name": "python",
   "nbconvert_exporter": "python",
   "pygments_lexer": "ipython3",
   "version": "3.9.12"
  }
 },
 "nbformat": 4,
 "nbformat_minor": 5
}
