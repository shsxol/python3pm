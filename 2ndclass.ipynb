{
 "cells": [
  {
   "cell_type": "code",
   "execution_count": 1,
   "id": "81c89c91",
   "metadata": {},
   "outputs": [
    {
     "name": "stdout",
     "output_type": "stream",
     "text": [
      "enter p = 500\n",
      "enter t =2\n",
      "enter r =5\n",
      "the value of i = 50.0\n"
     ]
    }
   ],
   "source": [
    "p=float(input(\"enter p = \"))\n",
    "t=float(input(\"enter t =\"))\n",
    "r=float(input(\"enter r =\"))\n",
    "\n",
    "i=p*t*r/100\n",
    "print(\"the value of i =\",i)"
   ]
  },
  {
   "cell_type": "code",
   "execution_count": 2,
   "id": "d3cdd8ad",
   "metadata": {},
   "outputs": [
    {
     "data": {
      "text/plain": [
       "'10'"
      ]
     },
     "execution_count": 2,
     "metadata": {},
     "output_type": "execute_result"
    }
   ],
   "source": [
    "#type casting\n",
    "a=10\n",
    "b=str(a)\n",
    "b"
   ]
  },
  {
   "cell_type": "code",
   "execution_count": 3,
   "id": "b9d1ccf6",
   "metadata": {},
   "outputs": [
    {
     "data": {
      "text/plain": [
       "10"
      ]
     },
     "execution_count": 3,
     "metadata": {},
     "output_type": "execute_result"
    }
   ],
   "source": [
    "a=10.55\n",
    "b=int(a)\n",
    "b"
   ]
  },
  {
   "cell_type": "code",
   "execution_count": 9,
   "id": "f5dfaac3",
   "metadata": {},
   "outputs": [
    {
     "name": "stdout",
     "output_type": "stream",
     "text": [
      "enter a = 50\n",
      "enter b= 60\n",
      "5060\n"
     ]
    }
   ],
   "source": [
    "a=input(\"enter a = \")\n",
    "b=input(\"enter b= \")\n",
    "c=a+b\n",
    "print(c)\n"
   ]
  },
  {
   "cell_type": "code",
   "execution_count": 11,
   "id": "4e353409",
   "metadata": {},
   "outputs": [
    {
     "data": {
      "text/plain": [
       "'hello python'"
      ]
     },
     "execution_count": 11,
     "metadata": {},
     "output_type": "execute_result"
    }
   ],
   "source": [
    "a= \"hello \"\n",
    "b=\"python\"\n",
    "c=a+b\n",
    "c"
   ]
  },
  {
   "cell_type": "code",
   "execution_count": 15,
   "id": "a707b2ba",
   "metadata": {},
   "outputs": [
    {
     "name": "stdout",
     "output_type": "stream",
     "text": [
      "hello world ! shakti bhakta rajbhandari is a dumbass \n",
      "hello world ! shakti bhakta rajbhandari is a dumbass \n",
      "\n"
     ]
    }
   ],
   "source": [
    "a= \"hello world ! shakti bhakta rajbhandari is a dumbass \\n\"\n",
    "print(a*2)"
   ]
  },
  {
   "cell_type": "code",
   "execution_count": 20,
   "id": "5d3543b2",
   "metadata": {},
   "outputs": [
    {
     "data": {
      "text/plain": [
       "'hello 11'"
      ]
     },
     "execution_count": 20,
     "metadata": {},
     "output_type": "execute_result"
    }
   ],
   "source": [
    "a=\"hello \"\n",
    "b=11\n",
    "c=a+str(b)\n",
    "c"
   ]
  }
 ],
 "metadata": {
  "kernelspec": {
   "display_name": "Python 3 (ipykernel)",
   "language": "python",
   "name": "python3"
  },
  "language_info": {
   "codemirror_mode": {
    "name": "ipython",
    "version": 3
   },
   "file_extension": ".py",
   "mimetype": "text/x-python",
   "name": "python",
   "nbconvert_exporter": "python",
   "pygments_lexer": "ipython3",
   "version": "3.9.12"
  }
 },
 "nbformat": 4,
 "nbformat_minor": 5
}
