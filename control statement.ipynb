{
 "cells": [
  {
   "cell_type": "code",
   "execution_count": 1,
   "id": "60be7d34",
   "metadata": {},
   "outputs": [],
   "source": [
    "# control statement\n",
    "# break\n",
    "# continue\n",
    "# pass\n"
   ]
  },
  {
   "cell_type": "code",
   "execution_count": 2,
   "id": "f8bac8cc",
   "metadata": {},
   "outputs": [
    {
     "name": "stdout",
     "output_type": "stream",
     "text": [
      "0\n",
      "1\n",
      "2\n",
      "3\n",
      "4\n",
      "5\n",
      "6\n",
      "7\n",
      "8\n",
      "9\n"
     ]
    }
   ],
   "source": [
    "for i in range(10):\n",
    "    print(i)"
   ]
  },
  {
   "cell_type": "code",
   "execution_count": 3,
   "id": "8953cc33",
   "metadata": {},
   "outputs": [
    {
     "name": "stdout",
     "output_type": "stream",
     "text": [
      "0\n",
      "1\n",
      "2\n",
      "3\n",
      "4\n"
     ]
    }
   ],
   "source": [
    "for i in range(10):\n",
    "    if i ==5:\n",
    "        break #when i == 5 then it will break the rule and continues to print the value up to 5\n",
    "    print(i)"
   ]
  },
  {
   "cell_type": "code",
   "execution_count": 4,
   "id": "b908778a",
   "metadata": {},
   "outputs": [
    {
     "name": "stdout",
     "output_type": "stream",
     "text": [
      "0\n",
      "1\n",
      "2\n",
      "3\n",
      "4\n",
      "6\n",
      "7\n",
      "8\n",
      "9\n"
     ]
    }
   ],
   "source": [
    "for i in range(10):\n",
    "    if i==5:\n",
    "        continue # it will basically remove the 5 and gives the all output except 5\n",
    "    print(i)"
   ]
  },
  {
   "cell_type": "code",
   "execution_count": 9,
   "id": "2968ba47",
   "metadata": {},
   "outputs": [
    {
     "name": "stdout",
     "output_type": "stream",
     "text": [
      "h e l l o "
     ]
    }
   ],
   "source": [
    "a= \"hello world\"\n",
    "for i in a:\n",
    "    if i==\" \":\n",
    "        break\n",
    "    print(i,end=\" \")"
   ]
  },
  {
   "cell_type": "code",
   "execution_count": 8,
   "id": "bff49122",
   "metadata": {},
   "outputs": [
    {
     "name": "stdout",
     "output_type": "stream",
     "text": [
      "h e l l o w o r l d "
     ]
    }
   ],
   "source": [
    "a=\"hello world\"\n",
    "for i in a:\n",
    "    if i==\" \":\n",
    "        continue\n",
    "    print(i,end=\" \")"
   ]
  },
  {
   "cell_type": "code",
   "execution_count": 10,
   "id": "1161ee86",
   "metadata": {},
   "outputs": [
    {
     "name": "stdout",
     "output_type": "stream",
     "text": [
      "0\n",
      "1\n",
      "2\n",
      "3\n",
      "4\n",
      "5\n",
      "6\n",
      "7\n",
      "8\n",
      "9\n",
      "10\n",
      "11\n",
      "12\n",
      "13\n"
     ]
    }
   ],
   "source": [
    "a=\"smile shrestha\"\n",
    "n=len(a)\n",
    "for i in range(n):\n",
    "    print(i)"
   ]
  },
  {
   "cell_type": "code",
   "execution_count": 11,
   "id": "6499d156",
   "metadata": {},
   "outputs": [],
   "source": [
    "# prime numbers : 2,3,5,7,9,11,13,17,19\n",
    "#compisite numbers : 4,1,2 le divide jane ie 4,6,8,9,10,12,14,15\n"
   ]
  },
  {
   "cell_type": "code",
   "execution_count": 23,
   "id": "90bea79c",
   "metadata": {},
   "outputs": [
    {
     "name": "stdout",
     "output_type": "stream",
     "text": [
      "enter the number = 9\n",
      "prime no. \n"
     ]
    }
   ],
   "source": [
    "n=int(input(\"enter the number = \"))\n",
    "if n>=2:\n",
    "    for i in range (2,n):\n",
    "        if n%i==0:\n",
    "            print(\"composite \")\n",
    "            break\n",
    "    else: #else of a for loop lol\n",
    "            print(\"prime no. \")\n",
    "            \n",
    "else:\n",
    "    print(\"the number must be greater than 2\")"
   ]
  },
  {
   "cell_type": "code",
   "execution_count": null,
   "id": "9d93db4d",
   "metadata": {},
   "outputs": [],
   "source": [
    "# while loop\n",
    "# while<condition>:\n",
    "# <operation>\n"
   ]
  },
  {
   "cell_type": "code",
   "execution_count": 14,
   "id": "d1b0c8be",
   "metadata": {},
   "outputs": [
    {
     "name": "stdout",
     "output_type": "stream",
     "text": [
      "10 hello kitty\n",
      "9 hello kitty\n",
      "8 hello kitty\n",
      "7 hello kitty\n",
      "6 hello kitty\n",
      "5 hello kitty\n",
      "4 hello kitty\n",
      "3 hello kitty\n",
      "2 hello kitty\n",
      "1 hello kitty\n"
     ]
    }
   ],
   "source": [
    "for i in range(10,0,-1):\n",
    "    print(i,\"hello kitty\")\n",
    "        "
   ]
  },
  {
   "cell_type": "code",
   "execution_count": 4,
   "id": "54ab15aa",
   "metadata": {},
   "outputs": [
    {
     "name": "stdout",
     "output_type": "stream",
     "text": [
      "hello kitty\n",
      "hello kitty\n"
     ]
    }
   ],
   "source": [
    "i=0\n",
    "while i <2:\n",
    "    print(\"hello kitty\")\n",
    "    i=i+1"
   ]
  },
  {
   "cell_type": "code",
   "execution_count": 10,
   "id": "af2f4cf2",
   "metadata": {},
   "outputs": [
    {
     "name": "stdout",
     "output_type": "stream",
     "text": [
      "5 hihi\n",
      "4 hihi\n",
      "3 hihi\n",
      "2 hihi\n",
      "1 hihi\n",
      "0 hihi\n"
     ]
    }
   ],
   "source": [
    "i=5\n",
    "while i>=0:\n",
    "    print(i,\"hihi\")\n",
    "    i=i-1"
   ]
  },
  {
   "cell_type": "code",
   "execution_count": 1,
   "id": "2d7056f9",
   "metadata": {},
   "outputs": [
    {
     "name": "stdout",
     "output_type": "stream",
     "text": [
      "enter = python\n",
      "you entered python\n"
     ]
    }
   ],
   "source": [
    "#while as if statement\n",
    "x=input(\"enter = \")\n",
    "while x==\"python\":\n",
    "    print(\"you entered python\")\n",
    "    break\n",
    "else:\n",
    "    print(\"yuuuyiii01\")"
   ]
  },
  {
   "cell_type": "code",
   "execution_count": 7,
   "id": "aa5fe732",
   "metadata": {},
   "outputs": [
    {
     "name": "stdout",
     "output_type": "stream",
     "text": [
      "enter the value of n = 5\n",
      "5 * 1 = 5\n",
      "5 * 2 = 10\n",
      "5 * 3 = 15\n",
      "5 * 4 = 20\n",
      "5 * 5 = 25\n",
      "5 * 6 = 30\n",
      "5 * 7 = 35\n",
      "5 * 8 = 40\n",
      "5 * 9 = 45\n",
      "5 * 10 = 50\n"
     ]
    }
   ],
   "source": [
    "n=int(input(\"enter the value of n = \"))\n",
    "i=1\n",
    "while i<11:\n",
    "    print(n,\"*\",i,\"=\",n*i)\n",
    "    i+=1\n",
    "    "
   ]
  },
  {
   "cell_type": "code",
   "execution_count": 14,
   "id": "4f3cc0f0",
   "metadata": {},
   "outputs": [
    {
     "name": "stdout",
     "output_type": "stream",
     "text": [
      "enter the value of n = 3\n",
      "enter the value of x= shakti\n",
      "enter the value of x= raj\n",
      "enter the value of x= bhandari\n",
      "shakti raj bhandari \n"
     ]
    }
   ],
   "source": [
    "s=str()\n",
    "i=0\n",
    "n=int(input(\"enter the value of n = \"))\n",
    "while i<n:\n",
    "    x=input(\"enter the value of x= \")\n",
    "    s=s+x+\" \"\n",
    "    i=i+1\n",
    "print(s)"
   ]
  },
  {
   "cell_type": "code",
   "execution_count": 16,
   "id": "20f2a33c",
   "metadata": {},
   "outputs": [
    {
     "name": "stdout",
     "output_type": "stream",
     "text": [
      "0\n",
      "1\n",
      "2\n",
      "3\n",
      "4\n",
      "5\n"
     ]
    }
   ],
   "source": [
    "for i in range(6):\n",
    "    print(i)"
   ]
  },
  {
   "cell_type": "code",
   "execution_count": 17,
   "id": "a99f2865",
   "metadata": {},
   "outputs": [
    {
     "name": "stdout",
     "output_type": "stream",
     "text": [
      "enter n = 5\n",
      "120\n"
     ]
    }
   ],
   "source": [
    "#factorial using for\n",
    "fac=1\n",
    "n=int(input(\"enter n = \"))\n",
    "for i in range(1,n+1):\n",
    "    fac=fac*i\n",
    "print(fac)"
   ]
  },
  {
   "cell_type": "code",
   "execution_count": 21,
   "id": "61a7772a",
   "metadata": {},
   "outputs": [
    {
     "name": "stdout",
     "output_type": "stream",
     "text": [
      "enter n = 5\n",
      "120\n"
     ]
    }
   ],
   "source": [
    "#factorial using while\n",
    "fac=1\n",
    "i=1\n",
    "n=int(input(\"enter n = \"))\n",
    "while i<=n:\n",
    "    fac=fac*i\n",
    "    i=i+1\n",
    "    \n",
    "print(fac)"
   ]
  },
  {
   "cell_type": "code",
   "execution_count": 22,
   "id": "cef025a9",
   "metadata": {},
   "outputs": [
    {
     "name": "stdout",
     "output_type": "stream",
     "text": [
      "s\n",
      "m\n",
      "i\n",
      "l\n",
      "e\n"
     ]
    }
   ],
   "source": [
    "a=\"smile\"\n",
    "i=0\n",
    "l=len(a)\n",
    "while i<l:\n",
    "    print(a[i])\n",
    "    i+=1"
   ]
  },
  {
   "cell_type": "code",
   "execution_count": 5,
   "id": "92c2fa22",
   "metadata": {},
   "outputs": [
    {
     "name": "stdout",
     "output_type": "stream",
     "text": [
      "hellosmileshrestha"
     ]
    }
   ],
   "source": [
    "#we have to increment twice because while doesn't directly increases the value of i\n",
    "a=\"hello smile shrestha\"\n",
    "i=0\n",
    "l=len(a)\n",
    "while i<l:\n",
    "    if a[i]==\" \":\n",
    "        i+=1\n",
    "        continue\n",
    "    print(a[i],end=\"\")\n",
    "    i+=1\n",
    "    "
   ]
  },
  {
   "cell_type": "code",
   "execution_count": 17,
   "id": "d75ab586",
   "metadata": {},
   "outputs": [
    {
     "name": "stdout",
     "output_type": "stream",
     "text": [
      "enter text with space= a l l t o o w e l l\n",
      "9\n"
     ]
    }
   ],
   "source": [
    "a=input(\"enter text with space= \")\n",
    "x=0\n",
    "i=0\n",
    "l=len(a)\n",
    "while i<l:\n",
    "    if a[i]==\" \":\n",
    "        x=x+1\n",
    "    i+=1\n",
    "print(x)\n",
    "    \n",
    "        "
   ]
  },
  {
   "cell_type": "code",
   "execution_count": 27,
   "id": "82f2cc0b",
   "metadata": {},
   "outputs": [
    {
     "name": "stdout",
     "output_type": "stream",
     "text": [
      "0 0 0 0\n",
      "0 0 0 1\n",
      "0 0 1 0\n",
      "0 0 1 1\n",
      "0 1 0 0\n",
      "0 1 0 1\n",
      "0 1 1 0\n",
      "0 1 1 1\n",
      "1 0 0 0\n",
      "1 0 0 1\n",
      "1 0 1 0\n",
      "1 0 1 1\n",
      "1 1 0 0\n",
      "1 1 0 1\n",
      "1 1 1 0\n",
      "1 1 1 1\n"
     ]
    }
   ],
   "source": [
    "#nested\n",
    "for i in range(2):\n",
    "    for j in range(2):\n",
    "        for k in range(2):\n",
    "            for l in range(2):\n",
    "                print(i,j,k,l)"
   ]
  },
  {
   "cell_type": "code",
   "execution_count": 1,
   "id": "c8fdfe45",
   "metadata": {},
   "outputs": [
    {
     "name": "stdout",
     "output_type": "stream",
     "text": [
      "enter value for a = 3\n",
      "2\n",
      "2\n",
      "2\n"
     ]
    }
   ],
   "source": [
    "#while prime and composite\n",
    "#fibonacci series = 1,1,2,3,5,8,13\n",
    "a=int(input(\"enter value for a = \"))\n",
    "i=0\n",
    "s=1\n",
    "while i<a:\n",
    "    i=i+1\n",
    "    if s==1:\n",
    "        print (s+1)\n",
    "    "
   ]
  },
  {
   "cell_type": "code",
   "execution_count": null,
   "id": "9ba58679",
   "metadata": {},
   "outputs": [],
   "source": []
  }
 ],
 "metadata": {
  "kernelspec": {
   "display_name": "Python 3 (ipykernel)",
   "language": "python",
   "name": "python3"
  },
  "language_info": {
   "codemirror_mode": {
    "name": "ipython",
    "version": 3
   },
   "file_extension": ".py",
   "mimetype": "text/x-python",
   "name": "python",
   "nbconvert_exporter": "python",
   "pygments_lexer": "ipython3",
   "version": "3.9.12"
  }
 },
 "nbformat": 4,
 "nbformat_minor": 5
}
