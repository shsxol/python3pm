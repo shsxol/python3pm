{
 "cells": [
  {
   "cell_type": "code",
   "execution_count": 1,
   "id": "6f045064",
   "metadata": {},
   "outputs": [],
   "source": [
    "#if <condition>\n",
    "#    <operation>\n",
    "#    elif<condition>\n",
    "#<operation>\n",
    "#...\n",
    "#else:\n",
    " #   <operation>\n"
   ]
  },
  {
   "cell_type": "code",
   "execution_count": 19,
   "id": "b6fddc44",
   "metadata": {},
   "outputs": [
    {
     "name": "stdout",
     "output_type": "stream",
     "text": [
      "enter value of n= 5\n",
      "enter a = 5\n",
      "a and b are equal\n"
     ]
    }
   ],
   "source": [
    "n=int(input(\"enter value of n= \"))\n",
    "a=int(input(\"enter a = \"))\n",
    "if a>n: #comparison operator\n",
    "    print(\"a is greater\")\n",
    "elif a<n:\n",
    "    print(\"a is smaller\")\n",
    "else:\n",
    "    print(\"a and b are equal\")"
   ]
  },
  {
   "cell_type": "code",
   "execution_count": 6,
   "id": "7bf32068",
   "metadata": {},
   "outputs": [],
   "source": [
    "#comaprison operator < > >= <= == !="
   ]
  },
  {
   "cell_type": "code",
   "execution_count": 8,
   "id": "81cad81b",
   "metadata": {},
   "outputs": [
    {
     "data": {
      "text/plain": [
       "True"
      ]
     },
     "execution_count": 8,
     "metadata": {},
     "output_type": "execute_result"
    }
   ],
   "source": [
    "a=10\n",
    "b=12\n",
    "a<b"
   ]
  },
  {
   "cell_type": "code",
   "execution_count": 13,
   "id": "42c21121",
   "metadata": {},
   "outputs": [
    {
     "data": {
      "text/plain": [
       "0"
      ]
     },
     "execution_count": 13,
     "metadata": {},
     "output_type": "execute_result"
    }
   ],
   "source": [
    "10%2"
   ]
  },
  {
   "cell_type": "code",
   "execution_count": 16,
   "id": "9ef11272",
   "metadata": {},
   "outputs": [
    {
     "name": "stdout",
     "output_type": "stream",
     "text": [
      "enter n= 10\n",
      "10  is even number\n"
     ]
    }
   ],
   "source": [
    "n=int(input(\"enter n= \"))\n",
    "if n%2 == 0:\n",
    "    print(n, \" is even number\")\n",
    "else:\n",
    "    print(n, \"is odd number\")"
   ]
  },
  {
   "cell_type": "code",
   "execution_count": 36,
   "id": "3031f79b",
   "metadata": {},
   "outputs": [
    {
     "name": "stdout",
     "output_type": "stream",
     "text": [
      "enter ur marks in pysics = 60\n",
      "enter ur marks in chemistry = 70\n",
      "enter ur marks in math = 80\n",
      "enter ur marks in english = 90\n",
      "enter ur marks in nepali = 40\n",
      "total =  340.0\n",
      "percentage =  68.0\n",
      "grade =  B\n"
     ]
    }
   ],
   "source": [
    "phy=float(input(\"enter ur marks in pysics = \"))\n",
    "chem=float(input(\"enter ur marks in chemistry = \"))\n",
    "math=float(input(\"enter ur marks in math = \"))\n",
    "eng=float(input(\"enter ur marks in english = \"))\n",
    "nep=float(input(\"enter ur marks in nepali = \"))\n",
    "total=phy+chem+math+eng+nep\n",
    "per=total/5\n",
    "if per>=80:\n",
    "    grade='A'\n",
    "elif per>=60:\n",
    "    grade= 'B'\n",
    "elif per>=45:\n",
    "    grade= 'C'\n",
    "else:\n",
    "    grade='F'\n",
    "print(\"total = \",total)\n",
    "print(\"percentage = \", per)\n",
    "print (\"grade = \",grade)"
   ]
  },
  {
   "cell_type": "code",
   "execution_count": 33,
   "id": "2e732394",
   "metadata": {},
   "outputs": [
    {
     "name": "stdout",
     "output_type": "stream",
     "text": [
      "enter the value of a = 10\n",
      "enter the value of b = 0\n",
      "enter -*/+  = /\n",
      "the value of b annot be 0\n"
     ]
    }
   ],
   "source": [
    "# - * / +\n",
    "a=int(input(\"enter the value of a = \"))\n",
    "b=int(input(\"enter the value of b = \"))\n",
    "o=input(\"enter -*/+  = \")\n",
    "if o == '+':\n",
    "    print(a+b)\n",
    "elif o == '-':\n",
    "    print(a-b)\n",
    "elif o == '*':\n",
    "    print(a*b)\n",
    "elif o == '/' and b!=0:\n",
    "    print(a/b)\n",
    "elif o == '/' and b==0:\n",
    "    print(\"the value of b annot be 0\")\n",
    "else:\n",
    "    print(\"invalid input\")\n"
   ]
  },
  {
   "cell_type": "code",
   "execution_count": 32,
   "id": "d1258f5d",
   "metadata": {},
   "outputs": [],
   "source": [
    "# and - > &\n",
    "# 1*0=0\n",
    "# 0*1=0\n",
    "# 0*0=0\n",
    "# 1*1=1"
   ]
  },
  {
   "cell_type": "code",
   "execution_count": 37,
   "id": "2f36d824",
   "metadata": {},
   "outputs": [],
   "source": [
    "# or -> +\n",
    "# 1+0=1\n",
    "# 0+1=1\n",
    "# 0+0=0\n",
    "# 1+1=1"
   ]
  },
  {
   "cell_type": "code",
   "execution_count": null,
   "id": "4635202a",
   "metadata": {},
   "outputs": [],
   "source": [
    "if <condition>:\n",
    "    if <condition>:\n",
    "        <operation>\n",
    "    elif <condition>:\n",
    "        <operation>\n",
    "    else:\n",
    "        <operation>\n",
    "else:\n",
    "    <operarion>"
   ]
  }
 ],
 "metadata": {
  "kernelspec": {
   "display_name": "Python 3 (ipykernel)",
   "language": "python",
   "name": "python3"
  },
  "language_info": {
   "codemirror_mode": {
    "name": "ipython",
    "version": 3
   },
   "file_extension": ".py",
   "mimetype": "text/x-python",
   "name": "python",
   "nbconvert_exporter": "python",
   "pygments_lexer": "ipython3",
   "version": "3.9.12"
  }
 },
 "nbformat": 4,
 "nbformat_minor": 5
}
