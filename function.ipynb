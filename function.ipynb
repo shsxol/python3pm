{
 "cells": [
  {
   "cell_type": "code",
   "execution_count": 1,
   "id": "2f7bb5b5",
   "metadata": {},
   "outputs": [],
   "source": [
    "#function\n",
    "# user-defined\n",
    "# pre-defined"
   ]
  },
  {
   "cell_type": "code",
   "execution_count": 11,
   "id": "260ab9f6",
   "metadata": {},
   "outputs": [],
   "source": [
    "#pre-defined\n",
    "# print()\n",
    "# type()\n",
    "# str()\n",
    "# list()\n",
    "# tuple()\n",
    "# dict()"
   ]
  },
  {
   "cell_type": "code",
   "execution_count": 3,
   "id": "1b76e13b",
   "metadata": {},
   "outputs": [],
   "source": [
    "# def <function_name>:\n",
    "#    <operations>\n",
    "    \n",
    "# <function_name>()"
   ]
  },
  {
   "cell_type": "code",
   "execution_count": null,
   "id": "b23aed62",
   "metadata": {},
   "outputs": [],
   "source": [
    "# function with no argument and no return type\n",
    "# function with argument and no return type\n",
    "# funtion with argument and return type \n",
    "# function with no argument and return type"
   ]
  },
  {
   "cell_type": "code",
   "execution_count": 4,
   "id": "b2445233",
   "metadata": {},
   "outputs": [
    {
     "name": "stdout",
     "output_type": "stream",
     "text": [
      "hello world\n"
     ]
    }
   ],
   "source": [
    "def hello():\n",
    "    print(\"hello world\")\n",
    "    \n",
    "hello()"
   ]
  },
  {
   "cell_type": "code",
   "execution_count": 5,
   "id": "d4eeb3d9",
   "metadata": {},
   "outputs": [
    {
     "name": "stdout",
     "output_type": "stream",
     "text": [
      "enter the value of l = 5\n",
      "enter the value of b = 6\n",
      "30\n"
     ]
    }
   ],
   "source": [
    "def cal():\n",
    "    l=int(input(\"enter the value of l = \"))            #local variable\n",
    "    b=int(input(\"enter the value of b = \"))            #local variable\n",
    "    a=l*b\n",
    "    print(a)\n",
    "\n",
    "    \n",
    "cal()"
   ]
  },
  {
   "cell_type": "code",
   "execution_count": 6,
   "id": "79b1d03d",
   "metadata": {},
   "outputs": [
    {
     "name": "stdout",
     "output_type": "stream",
     "text": [
      "enter the value of l = 5\n",
      "enter the value of b = 4\n",
      "20\n"
     ]
    },
    {
     "ename": "NameError",
     "evalue": "name 'l' is not defined",
     "output_type": "error",
     "traceback": [
      "\u001b[1;31m---------------------------------------------------------------------------\u001b[0m",
      "\u001b[1;31mNameError\u001b[0m                                 Traceback (most recent call last)",
      "Input \u001b[1;32mIn [6]\u001b[0m, in \u001b[0;36m<cell line: 9>\u001b[1;34m()\u001b[0m\n\u001b[0;32m      5\u001b[0m     \u001b[38;5;28mprint\u001b[39m(a)\n\u001b[0;32m      8\u001b[0m cal()\n\u001b[1;32m----> 9\u001b[0m \u001b[38;5;28mprint\u001b[39m(\u001b[43ml\u001b[49m,b)\n",
      "\u001b[1;31mNameError\u001b[0m: name 'l' is not defined"
     ]
    }
   ],
   "source": [
    "def cal():\n",
    "    l=int(input(\"enter the value of l = \"))            #local variable\n",
    "    b=int(input(\"enter the value of b = \"))            #local variable\n",
    "    a=l*b\n",
    "    print(a)\n",
    "\n",
    "    \n",
    "cal()\n",
    "print(l,b)"
   ]
  },
  {
   "cell_type": "code",
   "execution_count": 9,
   "id": "f8f955fd",
   "metadata": {},
   "outputs": [
    {
     "name": "stdout",
     "output_type": "stream",
     "text": [
      "enter the value of l = 5\n",
      "enter the value of b = 4\n",
      "20\n",
      "5 , 4\n"
     ]
    }
   ],
   "source": [
    "l=int(input(\"enter the value of l = \"))            #global variable\n",
    "b=int(input(\"enter the value of b = \"))            #global variable\n",
    "def cal():\n",
    "    a=l*b\n",
    "    print(a)\n",
    "\n",
    "    \n",
    "cal()\n",
    "print(l,\",\",b)"
   ]
  },
  {
   "cell_type": "code",
   "execution_count": 12,
   "id": "53fd38d4",
   "metadata": {},
   "outputs": [
    {
     "name": "stdout",
     "output_type": "stream",
     "text": [
      "enter the value of l = 5\n",
      "enter the value of b = 4\n",
      "20\n",
      "5 4\n"
     ]
    }
   ],
   "source": [
    "def cal():\n",
    "    global a,l,b                                       #to make the local variable global by using keyword global\n",
    "    l=int(input(\"enter the value of l = \"))            #local variable\n",
    "    b=int(input(\"enter the value of b = \"))            #local variable\n",
    "    a=l*b\n",
    "    print(a)\n",
    "\n",
    "    \n",
    "cal()\n",
    "print(l,b)"
   ]
  },
  {
   "cell_type": "code",
   "execution_count": 21,
   "id": "bc2bb432",
   "metadata": {},
   "outputs": [
    {
     "name": "stdout",
     "output_type": "stream",
     "text": [
      "enter l = 5\n",
      "enter b = 7\n",
      "enter h = 9\n",
      "315\n"
     ]
    }
   ],
   "source": [
    "# function with argument and no return type\n",
    "def cal(data):  \n",
    "    x,y,z=data               #parameter\n",
    "    a=x*y*z\n",
    "    print(a)\n",
    "    \n",
    "l=int(input(\"enter l = \"))\n",
    "b=int(input(\"enter b = \"))\n",
    "h=int(input(\"enter h = \"))\n",
    "data=(l,b,h)\n",
    "cal(data)                   #argument"
   ]
  },
  {
   "cell_type": "code",
   "execution_count": 22,
   "id": "7de1298c",
   "metadata": {},
   "outputs": [
    {
     "name": "stdout",
     "output_type": "stream",
     "text": [
      "php\n",
      "c\n",
      "c++\n",
      "java\n",
      "python\n"
     ]
    }
   ],
   "source": [
    "#function with argument but no return type\n",
    "def language(lan=\"python\"):\n",
    "    print(lan)\n",
    "\n",
    "    \n",
    "language(\"php\")\n",
    "language(\"c\")\n",
    "language(\"c++\")\n",
    "language(\"java\")\n",
    "language()\n"
   ]
  },
  {
   "cell_type": "code",
   "execution_count": 25,
   "id": "2f3cc2f2",
   "metadata": {},
   "outputs": [
    {
     "name": "stdout",
     "output_type": "stream",
     "text": [
      "550\n"
     ]
    }
   ],
   "source": [
    "#function with no argument but return type\n",
    "def cal():\n",
    "    l=10\n",
    "    b=55\n",
    "    a=l*b\n",
    "    return a\n",
    "print(cal())"
   ]
  },
  {
   "cell_type": "code",
   "execution_count": 27,
   "id": "67e42656",
   "metadata": {},
   "outputs": [
    {
     "name": "stdout",
     "output_type": "stream",
     "text": [
      "250\n"
     ]
    }
   ],
   "source": [
    "#funtion with no argument and return type\n",
    "def cal():\n",
    "    l=10\n",
    "    b=5\n",
    "    a=l*b\n",
    "    return a\n",
    "h=5\n",
    "area=cal()\n",
    "volume=area*h\n",
    "print(volume)"
   ]
  },
  {
   "cell_type": "code",
   "execution_count": 31,
   "id": "8eb8f3c2",
   "metadata": {},
   "outputs": [
    {
     "name": "stdout",
     "output_type": "stream",
     "text": [
      "the area =  50\n",
      "the volume =  300\n"
     ]
    }
   ],
   "source": [
    "#funtion with no argument and return type\n",
    "def cal():\n",
    "    l=10\n",
    "    b=5\n",
    "    h=6\n",
    "    a=l*b\n",
    "    v=a*h\n",
    "    return a,v\n",
    "x=cal()\n",
    "ar,vo=cal()\n",
    "print(\"the area = \",ar)\n",
    "print(\"the volume = \",vo)"
   ]
  },
  {
   "cell_type": "code",
   "execution_count": 34,
   "id": "65c1b70a",
   "metadata": {},
   "outputs": [
    {
     "name": "stdout",
     "output_type": "stream",
     "text": [
      "the area =  30\n",
      "the volume =  270\n"
     ]
    }
   ],
   "source": [
    "#function with argument and return type\n",
    "def cal(l,b,h):\n",
    "    a=l*b\n",
    "    v=a*h\n",
    "    return a,v\n",
    "l=5\n",
    "b=6\n",
    "h=9\n",
    "\n",
    "x=cal(l,b,h)\n",
    "ar,vo=x\n",
    "print(\"the area = \",ar)\n",
    "print(\"the volume = \",vo)"
   ]
  },
  {
   "cell_type": "code",
   "execution_count": null,
   "id": "efa1df3b",
   "metadata": {},
   "outputs": [],
   "source": []
  }
 ],
 "metadata": {
  "kernelspec": {
   "display_name": "Python 3 (ipykernel)",
   "language": "python",
   "name": "python3"
  },
  "language_info": {
   "codemirror_mode": {
    "name": "ipython",
    "version": 3
   },
   "file_extension": ".py",
   "mimetype": "text/x-python",
   "name": "python",
   "nbconvert_exporter": "python",
   "pygments_lexer": "ipython3",
   "version": "3.9.12"
  }
 },
 "nbformat": 4,
 "nbformat_minor": 5
}
