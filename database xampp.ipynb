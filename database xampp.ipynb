{
 "cells": [
  {
   "cell_type": "code",
   "execution_count": 1,
   "id": "d55211a3",
   "metadata": {},
   "outputs": [
    {
     "name": "stdout",
     "output_type": "stream",
     "text": [
      "Collecting mysql-connector\n",
      "  Downloading mysql-connector-2.2.9.tar.gz (11.9 MB)\n",
      "Building wheels for collected packages: mysql-connector\n",
      "  Building wheel for mysql-connector (setup.py): started\n",
      "  Building wheel for mysql-connector (setup.py): finished with status 'done'\n",
      "  Created wheel for mysql-connector: filename=mysql_connector-2.2.9-cp39-cp39-win_amd64.whl size=247961 sha256=ec5251dc38139c052f8dce79261dae8dac4a27d6773d3f760451ccaba56000dd\n",
      "  Stored in directory: c:\\users\\smile\\appdata\\local\\pip\\cache\\wheels\\7b\\14\\39\\5aad423666e827dfe9a1fbcd111ac17171e7c9865d570780ce\n",
      "Successfully built mysql-connector\n",
      "Installing collected packages: mysql-connector\n",
      "Successfully installed mysql-connector-2.2.9\n"
     ]
    }
   ],
   "source": [
    "!pip install mysql-connector"
   ]
  },
  {
   "cell_type": "code",
   "execution_count": 2,
   "id": "bf3f9ef8",
   "metadata": {},
   "outputs": [],
   "source": [
    "import mysql.connector #importing databae\n",
    "database=mysql.connector.connect(\n",
    "    host=\"localhost\",\n",
    "    user=\"root\",\n",
    "    password=\"\",\n",
    "    database=\"python3pm\"   #no space in database name\n",
    ")\n",
    "db=database.cursor()"
   ]
  },
  {
   "cell_type": "code",
   "execution_count": 5,
   "id": "c50d1669",
   "metadata": {},
   "outputs": [
    {
     "data": {
      "text/plain": [
       "[(1, 78, 88, 75, 87, 89, 452, 88, 'A', 'smile'),\n",
       " (2, 78, 88, 75, 87, 89, 452, 88, 'A', 'shakti')]"
      ]
     },
     "execution_count": 5,
     "metadata": {},
     "output_type": "execute_result"
    }
   ],
   "source": [
    "db.execute(\"SELECT*FROM student\")  #  *=for all\n",
    "result = db.fetchall()\n",
    "\n",
    "#for x in result:\n",
    " #   print(x)\n",
    "result"
   ]
  },
  {
   "cell_type": "code",
   "execution_count": 6,
   "id": "7f69cdc1",
   "metadata": {},
   "outputs": [
    {
     "name": "stdout",
     "output_type": "stream",
     "text": [
      "(1, 78, 88, 75, 87, 89, 452, 88, 'A', 'smile')\n",
      "(2, 78, 88, 75, 87, 89, 452, 88, 'A', 'shakti')\n"
     ]
    }
   ],
   "source": [
    "for x in result:\n",
    "      print(x)"
   ]
  },
  {
   "cell_type": "code",
   "execution_count": 7,
   "id": "7ba33820",
   "metadata": {},
   "outputs": [
    {
     "data": {
      "text/plain": [
       "[(1, 'smile', 452), (2, 'shakti', 452)]"
      ]
     },
     "execution_count": 7,
     "metadata": {},
     "output_type": "execute_result"
    }
   ],
   "source": [
    "db.execute(\"SELECT sn,name,total FROM student\")  #  *=for all\n",
    "result = db.fetchall()\n",
    "\n",
    "#for x in result:\n",
    " #   print(x)\n",
    "result"
   ]
  },
  {
   "cell_type": "code",
   "execution_count": 8,
   "id": "436e9f54",
   "metadata": {},
   "outputs": [],
   "source": [
    "#inserting data\n",
    "sql= f\"INSERT INTO student(sn,name,physics,chemistry,math,english,nepali,total,percentage,grade) \n",
    "VALUES(7,'smile',89,67,74,52,62,356,88,'A')\"\n",
    "db.execute(sql)\n",
    "database.commit()"
   ]
  },
  {
   "cell_type": "code",
   "execution_count": 11,
   "id": "69a018a9",
   "metadata": {},
   "outputs": [
    {
     "name": "stdout",
     "output_type": "stream",
     "text": [
      "enter the value of n = 2\n",
      "Enter name= aska\n",
      "enter physics = 40\n",
      "enter chemistry = 50\n",
      "enter math = 30\n",
      "enter english = 40\n",
      "enter nepali = 10\n",
      "Enter name= srijana\n",
      "enter physics = 10\n",
      "enter chemistry = 50\n",
      "enter math = 70\n",
      "enter english = 80\n",
      "enter nepali = 90\n"
     ]
    }
   ],
   "source": [
    "n=int(input(\"enter the value of n = \"))\n",
    "for i in range(n):\n",
    "    name=input(\"Enter name= \")\n",
    "    physics=int(input(\"enter physics = \"))\n",
    "    chemistry=int(input(\"enter chemistry = \"))\n",
    "    math=int(input(\"enter math = \"))\n",
    "    english=int(input(\"enter english = \"))\n",
    "    nepali=int(input(\"enter nepali = \"))\n",
    "    total=sum([physics,chemistry,math,english,nepali])\n",
    "    per=total/5\n",
    "    if per>=80:\n",
    "        grade='A'\n",
    "    elif per>=60:\n",
    "        grade='B'\n",
    "    elif per >=45:\n",
    "        grade='C'\n",
    "    else:\n",
    "        grade='F'\n",
    "    sql= f\"INSERT INTO student(name,physics,chemistry,math,english,nepali,total,percentage,grade) VALUES('{name}',{physics},{chemistry},{math},{english},{nepali},{total},{per},'{grade}')\"\n",
    "    db.execute(sql)\n",
    "    database.commit()"
   ]
  },
  {
   "cell_type": "code",
   "execution_count": 9,
   "id": "f863d60d",
   "metadata": {},
   "outputs": [],
   "source": [
    "#delete\n",
    "sql=\"DELETE FROM student WHERE Sn = 11\"\n",
    "db.execute(sql)\n",
    "database.commit()"
   ]
  },
  {
   "cell_type": "code",
   "execution_count": 13,
   "id": "303537d1",
   "metadata": {},
   "outputs": [],
   "source": [
    "#update\n",
    "sql=\"UPDATE student SET name = 'sush' WHERE name='sus'\"\n",
    "db.execute(sql)\n",
    "database.commit()"
   ]
  },
  {
   "cell_type": "code",
   "execution_count": null,
   "id": "2e0058a5",
   "metadata": {},
   "outputs": [],
   "source": []
  }
 ],
 "metadata": {
  "kernelspec": {
   "display_name": "Python 3 (ipykernel)",
   "language": "python",
   "name": "python3"
  },
  "language_info": {
   "codemirror_mode": {
    "name": "ipython",
    "version": 3
   },
   "file_extension": ".py",
   "mimetype": "text/x-python",
   "name": "python",
   "nbconvert_exporter": "python",
   "pygments_lexer": "ipython3",
   "version": "3.9.12"
  }
 },
 "nbformat": 4,
 "nbformat_minor": 5
}
