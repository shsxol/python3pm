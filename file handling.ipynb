{
 "cells": [
  {
   "cell_type": "code",
   "execution_count": 1,
   "id": "55a187f8",
   "metadata": {},
   "outputs": [],
   "source": [
    "#file handling\n"
   ]
  },
  {
   "cell_type": "code",
   "execution_count": 2,
   "id": "94f771aa",
   "metadata": {},
   "outputs": [],
   "source": [
    "# file = open('<file_name>','<mode>')\n",
    "# file.close()"
   ]
  },
  {
   "cell_type": "code",
   "execution_count": 3,
   "id": "ace7066c",
   "metadata": {},
   "outputs": [],
   "source": [
    "# with open ('<file_name>','<mode>') as file:\n",
    "#   <operations>"
   ]
  },
  {
   "cell_type": "code",
   "execution_count": 4,
   "id": "64bcbb7f",
   "metadata": {},
   "outputs": [],
   "source": [
    "# modes \n",
    "# read-> 'r'\n",
    "# create-> 'x'\n",
    "# write-> 'w'\n",
    "# append-> 'a'"
   ]
  },
  {
   "cell_type": "code",
   "execution_count": 8,
   "id": "faa5ff10",
   "metadata": {},
   "outputs": [
    {
     "name": "stdout",
     "output_type": "stream",
     "text": [
      "the file is already there.\n"
     ]
    }
   ],
   "source": [
    "try:        \n",
    "    file=open('data.txt','x')   #creating the file data.txt\n",
    "    file.close()\n",
    "except:\n",
    "    print(\"the file is already there.\")"
   ]
  },
  {
   "cell_type": "code",
   "execution_count": 11,
   "id": "bd16edc7",
   "metadata": {},
   "outputs": [
    {
     "name": "stdout",
     "output_type": "stream",
     "text": [
      "1.Hello world\n",
      "2.Hello world\n",
      "3.Hello world\n",
      "4.Hello world\n",
      "5.Hello world\n",
      "6.Hello world\n",
      "7.Hello world\n",
      "8.Hello world\n",
      "9.Hello world\n",
      "10.Hello world\n",
      "<class 'str'>\n"
     ]
    }
   ],
   "source": [
    "file=open('data.txt','r')\n",
    "x=file.read()         #data.txt ko value x ma rakheko\n",
    "print(x)\n",
    "print(type(x))\n",
    "file.close()            #just to close the file"
   ]
  },
  {
   "cell_type": "code",
   "execution_count": 16,
   "id": "62476d4b",
   "metadata": {},
   "outputs": [
    {
     "data": {
      "text/plain": [
       "['1.Hello world',\n",
       " '2.Hello world',\n",
       " '3.Hello world',\n",
       " '4.Hello world',\n",
       " '5.Hello world',\n",
       " '6.Hello world',\n",
       " '7.Hello world',\n",
       " '8.Hello world',\n",
       " '9.Hello world',\n",
       " '10.Hello world']"
      ]
     },
     "execution_count": 16,
     "metadata": {},
     "output_type": "execute_result"
    }
   ],
   "source": [
    "y=x.split('\\n')              #spliting the data in list ko form ma\n",
    "y    "
   ]
  },
  {
   "cell_type": "code",
   "execution_count": 18,
   "id": "69547bbb",
   "metadata": {},
   "outputs": [
    {
     "data": {
      "text/plain": [
       "'4.Hello world'"
      ]
     },
     "execution_count": 18,
     "metadata": {},
     "output_type": "execute_result"
    }
   ],
   "source": [
    "y[3]       #printing the third indexed ko list data"
   ]
  },
  {
   "cell_type": "code",
   "execution_count": 19,
   "id": "ad608627",
   "metadata": {},
   "outputs": [],
   "source": [
    "file=open('data.txt','w')\n",
    "file.write(\"Hello I'm smile \")\n",
    "file.close()"
   ]
  },
  {
   "cell_type": "code",
   "execution_count": 22,
   "id": "63325804",
   "metadata": {},
   "outputs": [],
   "source": [
    "file=open('datax.txt','a')\n",
    "file.write(\"Hello I'm smile \")\n",
    "file.close()"
   ]
  },
  {
   "cell_type": "code",
   "execution_count": 38,
   "id": "9d94b2a0",
   "metadata": {},
   "outputs": [
    {
     "name": "stdout",
     "output_type": "stream",
     "text": [
      "enter the value of n = 2\n",
      "enter name= apple\n",
      "enter price = 200\n",
      "enter quantity = 1\n",
      "enter name= banana\n",
      "enter price = 300\n",
      "enter quantity = 1\n"
     ]
    }
   ],
   "source": [
    "bill=\"\"\n",
    "n=int(input(\"enter the value of n = \"))\n",
    "for i in range(n):\n",
    "    name=input(\"enter name= \")\n",
    "    price=int(input(\"enter price = \"))\n",
    "    quantity=int(input(\"enter quantity = \"))\n",
    "    total=price*quantity\n",
    "    bill=bill+f\"{name}, {price}, {quantity}, {total} \\n\" #comma must be written in between to write in excel\n",
    "\n",
    "file=open('data.csv','w')    #.csv=comma seperated value\n",
    "file.write('name,price,quantity,total\\n')\n",
    "file.write(bill)\n",
    "file.close()"
   ]
  },
  {
   "cell_type": "code",
   "execution_count": 39,
   "id": "4f642dbd",
   "metadata": {},
   "outputs": [
    {
     "name": "stdout",
     "output_type": "stream",
     "text": [
      "name,price,quantity,total\n",
      "apple, 200, 1, 200 \n",
      "banana, 300, 1, 300 \n",
      "\n"
     ]
    }
   ],
   "source": [
    "file=open('data.csv','r')\n",
    "x=file.read()\n",
    "print(x)\n",
    "file.close()"
   ]
  },
  {
   "cell_type": "code",
   "execution_count": 40,
   "id": "7ca410d1",
   "metadata": {},
   "outputs": [
    {
     "data": {
      "text/plain": [
       "['name,price,quantity,total', 'apple, 200, 1, 200 ', 'banana, 300, 1, 300 ']"
      ]
     },
     "execution_count": 40,
     "metadata": {},
     "output_type": "execute_result"
    }
   ],
   "source": [
    "y=x.split('\\n')[0:-1]\n",
    "y"
   ]
  },
  {
   "cell_type": "code",
   "execution_count": 41,
   "id": "74d49697",
   "metadata": {},
   "outputs": [
    {
     "data": {
      "text/plain": [
       "[['name', 'price', 'quantity', 'total'],\n",
       " ['apple', ' 200', ' 1', ' 200 '],\n",
       " ['banana', ' 300', ' 1', ' 300 ']]"
      ]
     },
     "execution_count": 41,
     "metadata": {},
     "output_type": "execute_result"
    }
   ],
   "source": [
    "bills=[]\n",
    "for i in y: #y ko value in i\n",
    "    bills.append(i.split(','))  #now splitting i\n",
    "bills"
   ]
  },
  {
   "cell_type": "code",
   "execution_count": 44,
   "id": "0c13e883",
   "metadata": {},
   "outputs": [
    {
     "name": "stdout",
     "output_type": "stream",
     "text": [
      "500\n"
     ]
    }
   ],
   "source": [
    "tot=0\n",
    "for i in range(1,len(bills)):\n",
    "    z=int(bills[i][3])\n",
    "    tot=tot+z\n",
    "print(tot)"
   ]
  },
  {
   "cell_type": "code",
   "execution_count": 6,
   "id": "59403880",
   "metadata": {},
   "outputs": [
    {
     "name": "stdout",
     "output_type": "stream",
     "text": [
      "enter the no. of data you want o enter = 2\n",
      "enter the department id = 1\n",
      "enter the department name = smile\n",
      "enter the manager id = 2\n",
      "enter the location id = 3\n",
      "enter the department id = 4\n",
      "enter the department name = skdk\n",
      "enter the manager id = 5\n",
      "enter the location id = 6\n"
     ]
    }
   ],
   "source": [
    "bill=\"\"\n",
    "n=int(input(\"enter the no. of data you want o enter = \"))\n",
    "for i in range(n):\n",
    "    department_id=int(input(\"enter the department id = \"))\n",
    "    department_name=input(\"enter the department name = \")\n",
    "    manager_id=int(input(\"enter the manager id = \"))\n",
    "    location_id=int(input(\"enter the location id = \"))\n",
    "    x=x+f\"{department_id},{department_name},{manager_id},{location_id} \\n\"\n",
    "file=open('department.csv','w')\n",
    "file.write('department_id,department_name,manager_id,location_id \\n ')\n",
    "file.write(x)\n",
    "file.close()"
   ]
  },
  {
   "cell_type": "code",
   "execution_count": null,
   "id": "a0612d86",
   "metadata": {},
   "outputs": [],
   "source": []
  }
 ],
 "metadata": {
  "kernelspec": {
   "display_name": "Python 3 (ipykernel)",
   "language": "python",
   "name": "python3"
  },
  "language_info": {
   "codemirror_mode": {
    "name": "ipython",
    "version": 3
   },
   "file_extension": ".py",
   "mimetype": "text/x-python",
   "name": "python",
   "nbconvert_exporter": "python",
   "pygments_lexer": "ipython3",
   "version": "3.9.12"
  }
 },
 "nbformat": 4,
 "nbformat_minor": 5
}
