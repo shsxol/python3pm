{
 "cells": [
  {
   "cell_type": "code",
   "execution_count": 1,
   "id": "f52eb566",
   "metadata": {},
   "outputs": [],
   "source": [
    "#oop\n",
    "#inheritance\n"
   ]
  },
  {
   "cell_type": "code",
   "execution_count": 2,
   "id": "cd8fa7cb",
   "metadata": {},
   "outputs": [],
   "source": [
    "# class A:    #parent class\n",
    "#     pass\n",
    "# class B(A): #child class       # class A ma vako data in class B then inheritance\n",
    "#     pass\n"
   ]
  },
  {
   "cell_type": "code",
   "execution_count": 24,
   "id": "2e2fffab",
   "metadata": {},
   "outputs": [
    {
     "name": "stdout",
     "output_type": "stream",
     "text": [
      "hello world I am fgh of age 11\n"
     ]
    }
   ],
   "source": [
    "class A:\n",
    "    def __init__(self):\n",
    "        self.name=\"fgh\"\n",
    "        self.age=11\n",
    "class B(A):\n",
    "    def info(self):\n",
    "        print(f\"hello world I am {self.name} of age {self.age}\")\n",
    "        \n",
    "obj=B()\n",
    "obj.info() "
   ]
  },
  {
   "cell_type": "code",
   "execution_count": 26,
   "id": "bed8084c",
   "metadata": {},
   "outputs": [
    {
     "name": "stdout",
     "output_type": "stream",
     "text": [
      "enter name =smile\n",
      "enter age = 18\n",
      "hello world I am fgh of age 11\n"
     ]
    }
   ],
   "source": [
    "class A:\n",
    "    def __init__(self,name,age):\n",
    "        self.name=\"fgh\"\n",
    "        self.age=11\n",
    "class B(A):\n",
    "    def info(self):\n",
    "        print(f\"hello world I am {self.name} of age {self.age}\")\n",
    "        \n",
    "        \n",
    "name=input(\"enter name =\")\n",
    "age=int(input(\"enter age = \"))\n",
    "        \n",
    "obj=B(name,age)\n",
    "obj.info()     "
   ]
  },
  {
   "cell_type": "code",
   "execution_count": 22,
   "id": "bd76e62c",
   "metadata": {},
   "outputs": [
    {
     "name": "stdout",
     "output_type": "stream",
     "text": [
      "enter name = smile\n",
      "enter age = 17\n",
      "my name smile of age 17\n"
     ]
    }
   ],
   "source": [
    "class A:\n",
    "    def __init__(self,name,age):\n",
    "        self.name=name\n",
    "        self.age=age\n",
    "class B(A):\n",
    "    def info(self):\n",
    "        print(f\"my name {self.name} of age {self.age}\")\n",
    "        \n",
    "name=input(\"enter name = \")\n",
    "age=int(input(\"enter age = \"))\n",
    "\n",
    "obj=B(name,age)\n",
    "obj.info()\n"
   ]
  },
  {
   "cell_type": "code",
   "execution_count": 30,
   "id": "8929a9e4",
   "metadata": {},
   "outputs": [
    {
     "name": "stdout",
     "output_type": "stream",
     "text": [
      "enter name = smile\n",
      "enter age = 17\n",
      "enter add = adddd\n",
      "my age 17\n",
      "hello i am smile of age 17 from adddd\n"
     ]
    }
   ],
   "source": [
    "class A:\n",
    "    def __init__(self,age):\n",
    "        self.age=age\n",
    "    def c(self):\n",
    "        print(f\"my age {self.age}\")\n",
    "class B(A):\n",
    "    def __init__(self,name,age,add):\n",
    "        self.name=name\n",
    "        self.add=add\n",
    "        A.__init__(self,age)\n",
    "    def info(self):\n",
    "        print(f\"hello i am {self.name} of age {self.age} from {self.add}\")\n",
    "        \n",
    "name=input(\"enter name = \")\n",
    "age=int(input(\"enter age = \"))\n",
    "add=input(\"enter add = \")\n",
    "\n",
    "# obj=A(age)     #can also call class A seperately for function c\n",
    "# obj.c()\n",
    "obj=B(name,age,add)\n",
    "obj.c()\n",
    "obj.info()"
   ]
  },
  {
   "cell_type": "code",
   "execution_count": 31,
   "id": "8347c6ad",
   "metadata": {},
   "outputs": [],
   "source": [
    "# # types of inheritance\n",
    "#     multiple inheritance\n",
    "#     multi-level inheritance\n"
   ]
  },
  {
   "cell_type": "code",
   "execution_count": 32,
   "id": "abd0044d",
   "metadata": {},
   "outputs": [],
   "source": [
    "# multi-level inheritance\n",
    "class A:\n",
    "    pass\n",
    "class B:\n",
    "    pass\n",
    "class C(A,B):\n",
    "    pass\n",
    "\n",
    "obj=C()"
   ]
  },
  {
   "cell_type": "code",
   "execution_count": 33,
   "id": "9a49059a",
   "metadata": {},
   "outputs": [],
   "source": [
    "# multiple inheritance\n",
    "class A:\n",
    "    pass\n",
    "class B(A):\n",
    "    pass\n",
    "class C(B):\n",
    "    pass\n",
    "\n",
    "obj=C()"
   ]
  },
  {
   "cell_type": "code",
   "execution_count": 1,
   "id": "375732bf",
   "metadata": {},
   "outputs": [
    {
     "name": "stdout",
     "output_type": "stream",
     "text": [
      "enter name = smile\n",
      "enter age = 15\n",
      "enter add = ktm\n",
      "hello i am smile of age 15 from ktm\n"
     ]
    }
   ],
   "source": [
    "#multiple inheritance\n",
    "class A:\n",
    "    def __init__(self,add):\n",
    "        self._add=add            #_add is protected\n",
    "\n",
    "class B(A):\n",
    "    def __init__(self,age,add):\n",
    "        self._age=age            #_age is protected\n",
    "        A.__init__(self,add)\n",
    "class C(B):\n",
    "    def __init__(self,name,age,add):\n",
    "        self.__name=name         #__name is private\n",
    "        B.__init__(self,age,add)\n",
    "        \n",
    "    def info(self):\n",
    "        print(f\"hello i am {self.__name} of age {self._age} from {self._add}\")\n",
    "        \n",
    "name=input(\"enter name = \")\n",
    "age=int(input(\"enter age = \"))\n",
    "add=input(\"enter add = \")\n",
    "\n",
    "obj=C(name,age,add)\n",
    "obj.info()"
   ]
  },
  {
   "cell_type": "code",
   "execution_count": 3,
   "id": "134a3759",
   "metadata": {},
   "outputs": [
    {
     "name": "stdout",
     "output_type": "stream",
     "text": [
      "enter name = smile\n",
      "enter age = 15\n",
      "enter address = ktm\n",
      "enter phone = 9880104631\n",
      "my name is smile of age 15 from ktm and my phone is 9880104631\n"
     ]
    }
   ],
   "source": [
    "#multi-level inheritance\n",
    "class A:\n",
    "    def __init__(self,name,phone):\n",
    "        self._name=name\n",
    "        self.__phone=phone\n",
    "    def my_phone(self):\n",
    "        return self.__phone\n",
    "class B:\n",
    "    def __init__(self,age):\n",
    "        self._age=age\n",
    "class C(A,B):\n",
    "    def __init__(self,name,age,add,phone):\n",
    "        self.__add=add\n",
    "        A.__init__(self,name,phone)\n",
    "        B.__init__(self,age)\n",
    "    def info(self):\n",
    "        print(f\"my name is {self._name} of age {self._age} from {self.__add} and my phone is {super().my_phone()}\")\n",
    "                                                                                             #\n",
    "name=input(\"enter name = \")\n",
    "age=int(input(\"enter age = \"))\n",
    "add=input(\"enter address = \")\n",
    "phone=int(input(\"enter phone = \"))\n",
    "\n",
    "obj=C(name,age,add,phone)\n",
    "obj.info()"
   ]
  },
  {
   "cell_type": "code",
   "execution_count": null,
   "id": "13d01d81",
   "metadata": {},
   "outputs": [],
   "source": []
  }
 ],
 "metadata": {
  "kernelspec": {
   "display_name": "Python 3 (ipykernel)",
   "language": "python",
   "name": "python3"
  },
  "language_info": {
   "codemirror_mode": {
    "name": "ipython",
    "version": 3
   },
   "file_extension": ".py",
   "mimetype": "text/x-python",
   "name": "python",
   "nbconvert_exporter": "python",
   "pygments_lexer": "ipython3",
   "version": "3.9.12"
  }
 },
 "nbformat": 4,
 "nbformat_minor": 5
}
