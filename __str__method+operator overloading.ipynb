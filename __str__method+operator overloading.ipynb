{
 "cells": [
  {
   "cell_type": "code",
   "execution_count": 2,
   "id": "e93e4177",
   "metadata": {},
   "outputs": [],
   "source": [
    "#  str method\n",
    "# representative variable lai matra print garne kam ho"
   ]
  },
  {
   "cell_type": "code",
   "execution_count": 9,
   "id": "c81fb9b2",
   "metadata": {},
   "outputs": [
    {
     "name": "stdout",
     "output_type": "stream",
     "text": [
      "rem\n",
      "rem\n"
     ]
    },
    {
     "data": {
      "text/plain": [
       "'rem'"
      ]
     },
     "execution_count": 9,
     "metadata": {},
     "output_type": "execute_result"
    }
   ],
   "source": [
    "class Info:\n",
    "    def __init__(self,name,age):\n",
    "        self.name=name\n",
    "        self.age=age\n",
    "    def __str__(self):\n",
    "        return self.name     #for printing age [str(self.age)] or [\"self.age\"]\n",
    "\n",
    "obj=Info(\"rem\",16)\n",
    "print(obj) \n",
    "print(obj.__str__())\n",
    "str(obj)"
   ]
  },
  {
   "cell_type": "code",
   "execution_count": 16,
   "id": "800256e7",
   "metadata": {},
   "outputs": [
    {
     "name": "stdout",
     "output_type": "stream",
     "text": [
      "1 5\n"
     ]
    }
   ],
   "source": [
    "#operator overloading\n",
    "class Point:\n",
    "    def __init__(self,x=0,y=0):\n",
    "        self.x=x\n",
    "        self.y=y\n",
    "        \n",
    "    def __add__(self,other):\n",
    "        x=self.x+other.x\n",
    "        y=self.y+other.y\n",
    "        return Point(x,y)\n",
    "    \n",
    "    def __str__(self):\n",
    "        return f\"{self.x} {self.y}\"\n",
    "\n",
    "p1=Point(2,3)\n",
    "p2=Point(-1,2)\n",
    "print(p1+p2)"
   ]
  },
  {
   "cell_type": "code",
   "execution_count": 20,
   "id": "44ecba34",
   "metadata": {},
   "outputs": [
    {
     "name": "stdout",
     "output_type": "stream",
     "text": [
      "this is init method 2000\n",
      "this is init method 1500\n",
      "this is init method 1000\n",
      "this is in cell add 3500\n",
      "this is init method 3500\n",
      "this is in cell add 4500\n",
      "this is init method 4500\n",
      "this is cell str 4500\n",
      "4500\n"
     ]
    }
   ],
   "source": [
    "#operator overloading\n",
    "class Point:\n",
    "    def __init__(self,x=0):\n",
    "        self.x=x\n",
    "        print(\"this is init method\",self.x)\n",
    "        \n",
    "    def __add__(self,other):\n",
    "        x=self.x+other.x\n",
    "        print(\"this is in cell add\",x)\n",
    "      \n",
    "        return Point(x)\n",
    "    \n",
    "    def __str__(self):\n",
    "        print(\"this is cell str\",self.x)\n",
    "        return f\"{self.x}\"\n",
    "        \n",
    "\n",
    "p1=Point(2000)\n",
    "p2=Point(1500)\n",
    "p3=Point(1000)\n",
    "print(p1+p2+p3)"
   ]
  },
  {
   "cell_type": "code",
   "execution_count": null,
   "id": "57308e3d",
   "metadata": {},
   "outputs": [],
   "source": []
  }
 ],
 "metadata": {
  "kernelspec": {
   "display_name": "Python 3 (ipykernel)",
   "language": "python",
   "name": "python3"
  },
  "language_info": {
   "codemirror_mode": {
    "name": "ipython",
    "version": 3
   },
   "file_extension": ".py",
   "mimetype": "text/x-python",
   "name": "python",
   "nbconvert_exporter": "python",
   "pygments_lexer": "ipython3",
   "version": "3.9.12"
  }
 },
 "nbformat": 4,
 "nbformat_minor": 5
}
