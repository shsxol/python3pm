{
 "cells": [
  {
   "cell_type": "code",
   "execution_count": 1,
   "id": "10a6c726",
   "metadata": {},
   "outputs": [],
   "source": [
    "#dict\n",
    "# -indexed\n",
    "# -ordered\n",
    "# -multiple value\n",
    "# -mutable datatype"
   ]
  },
  {
   "cell_type": "code",
   "execution_count": 2,
   "id": "bb27e09d",
   "metadata": {},
   "outputs": [],
   "source": [
    "#d={}\n",
    "# #d=dict()\n",
    "# d= {<key>:<value>,<key>:<value>,...}"
   ]
  },
  {
   "cell_type": "code",
   "execution_count": 3,
   "id": "8857a815",
   "metadata": {},
   "outputs": [
    {
     "data": {
      "text/plain": [
       "{'a': 'apple', 'b': 'ball', 'c': 'cat'}"
      ]
     },
     "execution_count": 3,
     "metadata": {},
     "output_type": "execute_result"
    }
   ],
   "source": [
    "d={'a':'apple','b':'ball','c':'cat'}\n",
    "d"
   ]
  },
  {
   "cell_type": "code",
   "execution_count": 4,
   "id": "8907b112",
   "metadata": {},
   "outputs": [
    {
     "data": {
      "text/plain": [
       "'cat'"
      ]
     },
     "execution_count": 4,
     "metadata": {},
     "output_type": "execute_result"
    }
   ],
   "source": [
    "d['c']"
   ]
  },
  {
   "cell_type": "code",
   "execution_count": 5,
   "id": "21971e9f",
   "metadata": {},
   "outputs": [
    {
     "data": {
      "text/plain": [
       "3"
      ]
     },
     "execution_count": 5,
     "metadata": {},
     "output_type": "execute_result"
    }
   ],
   "source": [
    "len(d)"
   ]
  },
  {
   "cell_type": "code",
   "execution_count": 6,
   "id": "6a8b196f",
   "metadata": {},
   "outputs": [
    {
     "data": {
      "text/plain": [
       "{'a': 'APPLE', 'b': 'ball', 'c': 'cat'}"
      ]
     },
     "execution_count": 6,
     "metadata": {},
     "output_type": "execute_result"
    }
   ],
   "source": [
    "d={'a':'apple','b':'ball','c':'cat'}\n",
    "d['a']='APPLE'\n",
    "d"
   ]
  },
  {
   "cell_type": "code",
   "execution_count": 7,
   "id": "f87f9744",
   "metadata": {},
   "outputs": [
    {
     "data": {
      "text/plain": [
       "{'a': 'APPLE', 'b': 'ball', 'c': 'cat', 'd': 'dog'}"
      ]
     },
     "execution_count": 7,
     "metadata": {},
     "output_type": "execute_result"
    }
   ],
   "source": [
    "d['d']='dog'\n",
    "d"
   ]
  },
  {
   "cell_type": "code",
   "execution_count": 8,
   "id": "7f1263e4",
   "metadata": {},
   "outputs": [
    {
     "data": {
      "text/plain": [
       "{'a': 'apple', 'b': 'ball', 'c': 'cat', 'd': 'dog'}"
      ]
     },
     "execution_count": 8,
     "metadata": {},
     "output_type": "execute_result"
    }
   ],
   "source": [
    "d={}\n",
    "d['a']='apple'\n",
    "d['b']='ball'\n",
    "d['c']='cat'\n",
    "d['d']='dog'\n",
    "d"
   ]
  },
  {
   "cell_type": "code",
   "execution_count": 2,
   "id": "3e5083eb",
   "metadata": {},
   "outputs": [
    {
     "name": "stdout",
     "output_type": "stream",
     "text": [
      "enter the value of n = 2\n",
      "enter the name = smile\n",
      "enter the phn no = 9852147\n",
      "enter the name = shakti\n",
      "enter the phn no = 85362255\n",
      "{'smile': 9852147, 'shakti': 85362255}\n"
     ]
    }
   ],
   "source": [
    "d={}\n",
    "n=int(input(\"enter the value of n = \"))\n",
    "for i in range(n):\n",
    "    name = input(\"enter the name = \")\n",
    "    phn = int(input(\"enter the phn no = \"))\n",
    "    d[name]=phn\n",
    "print(d)"
   ]
  },
  {
   "cell_type": "code",
   "execution_count": 3,
   "id": "0ac48804",
   "metadata": {},
   "outputs": [
    {
     "name": "stdout",
     "output_type": "stream",
     "text": [
      "smile\n",
      "shakti\n"
     ]
    }
   ],
   "source": [
    "for i in d:\n",
    "    print(i)"
   ]
  },
  {
   "cell_type": "code",
   "execution_count": 5,
   "id": "ad059ce1",
   "metadata": {},
   "outputs": [
    {
     "name": "stdout",
     "output_type": "stream",
     "text": [
      "9852147\n",
      "85362255\n"
     ]
    }
   ],
   "source": [
    "for i in d.values():\n",
    "    print(i)"
   ]
  },
  {
   "cell_type": "code",
   "execution_count": 6,
   "id": "5fd0a892",
   "metadata": {},
   "outputs": [
    {
     "name": "stdout",
     "output_type": "stream",
     "text": [
      "('smile', 9852147)\n",
      "('shakti', 85362255)\n"
     ]
    }
   ],
   "source": [
    "for i in d.items():\n",
    "    print(i)"
   ]
  },
  {
   "cell_type": "code",
   "execution_count": 7,
   "id": "112ad873",
   "metadata": {},
   "outputs": [
    {
     "name": "stdout",
     "output_type": "stream",
     "text": [
      "[('smile', 9852147), ('shakti', 85362255)]\n"
     ]
    }
   ],
   "source": [
    "x=[]\n",
    "for i in d.items():\n",
    "    x.append(i)\n",
    "print(x)"
   ]
  },
  {
   "cell_type": "code",
   "execution_count": 8,
   "id": "82f03ff4",
   "metadata": {},
   "outputs": [
    {
     "data": {
      "text/plain": [
       "{'smile': 9852147, 'shakti': 85362255}"
      ]
     },
     "execution_count": 8,
     "metadata": {},
     "output_type": "execute_result"
    }
   ],
   "source": [
    "dict(x)"
   ]
  },
  {
   "cell_type": "code",
   "execution_count": 9,
   "id": "1f634c68",
   "metadata": {},
   "outputs": [
    {
     "data": {
      "text/plain": [
       "{'smile': '9852147', 'shakti': '85362255', 'kxahalkhabar': '101'}"
      ]
     },
     "execution_count": 9,
     "metadata": {},
     "output_type": "execute_result"
    }
   ],
   "source": [
    "d={'smile': '9852147', 'shakti': '85362255'}\n",
    "c={'kxahalkhabar':'101'}\n",
    "d.update(c)\n",
    "d"
   ]
  },
  {
   "cell_type": "code",
   "execution_count": 10,
   "id": "0e996b64",
   "metadata": {},
   "outputs": [
    {
     "data": {
      "text/plain": [
       "{('smile', 'shrestha'): '9880104631', 'shakti': '982541336'}"
      ]
     },
     "execution_count": 10,
     "metadata": {},
     "output_type": "execute_result"
    }
   ],
   "source": [
    "d={('smile','shrestha'):'9880104631','shakti':'982541336'}\n",
    "d"
   ]
  },
  {
   "cell_type": "code",
   "execution_count": 11,
   "id": "a46d0cb8",
   "metadata": {},
   "outputs": [
    {
     "data": {
      "text/plain": [
       "'9880104631'"
      ]
     },
     "execution_count": 11,
     "metadata": {},
     "output_type": "execute_result"
    }
   ],
   "source": [
    "d[('smile','shrestha')]"
   ]
  },
  {
   "cell_type": "code",
   "execution_count": 16,
   "id": "b84298c1",
   "metadata": {},
   "outputs": [
    {
     "name": "stdout",
     "output_type": "stream",
     "text": [
      "{'shakti': '85362255', 'kxahalkhabar': '101'}\n"
     ]
    }
   ],
   "source": [
    "#del pop()\n",
    "e={'smile': '9852147', 'shakti': '85362255', 'kxahalkhabar': '101'}\n",
    "del e['smile'] #keyword sp big bracket in included\n",
    "print(e)"
   ]
  },
  {
   "cell_type": "code",
   "execution_count": 19,
   "id": "d75daf39",
   "metadata": {},
   "outputs": [
    {
     "data": {
      "text/plain": [
       "{'smile': '9852147', 'shakti': '85362255'}"
      ]
     },
     "execution_count": 19,
     "metadata": {},
     "output_type": "execute_result"
    }
   ],
   "source": [
    "e={'smile': '9852147', 'shakti': '85362255', 'lol': '101'}\n",
    "e.pop('lol');\n",
    "e"
   ]
  },
  {
   "cell_type": "code",
   "execution_count": 21,
   "id": "a797d8f7",
   "metadata": {},
   "outputs": [
    {
     "data": {
      "text/plain": [
       "{}"
      ]
     },
     "execution_count": 21,
     "metadata": {},
     "output_type": "execute_result"
    }
   ],
   "source": [
    "e.clear()\n",
    "e"
   ]
  },
  {
   "cell_type": "code",
   "execution_count": 25,
   "id": "dfa78760",
   "metadata": {},
   "outputs": [
    {
     "data": {
      "text/plain": [
       "{'smile': [9852147, 852145], 'shakti': [85362255, 6569566], 'lol': [101, 525]}"
      ]
     },
     "execution_count": 25,
     "metadata": {},
     "output_type": "execute_result"
    }
   ],
   "source": [
    "#list inside dictoniaries0\n",
    "e={'smile': [9852147,852145], \n",
    "   'shakti': [85362255,6569566], \n",
    "   'lol': [101,525]}\n",
    "e\n"
   ]
  },
  {
   "cell_type": "code",
   "execution_count": 29,
   "id": "0161652c",
   "metadata": {},
   "outputs": [
    {
     "name": "stdout",
     "output_type": "stream",
     "text": [
      "[85362255, 6569566]\n",
      "85362255\n"
     ]
    }
   ],
   "source": [
    "print(e['shakti'])\n",
    "print(e['shakti'][0])"
   ]
  },
  {
   "cell_type": "code",
   "execution_count": 32,
   "id": "7fc2391c",
   "metadata": {},
   "outputs": [
    {
     "name": "stdout",
     "output_type": "stream",
     "text": [
      "enter no. of names u wantt to enter = 2\n",
      "enter the name = smile\n",
      "enter the ntc phn no = 98522\n",
      "enter the smart cell no = 654\n",
      "enter the name = shalti\n",
      "enter the ntc phn no = 9852147\n",
      "enter the smart cell no = 8546654\n"
     ]
    },
    {
     "data": {
      "text/plain": [
       "{'smile': [98522, 654], 'shalti': [9852147, 8546654]}"
      ]
     },
     "execution_count": 32,
     "metadata": {},
     "output_type": "execute_result"
    }
   ],
   "source": [
    "d={}\n",
    "n=int(input(\"enter no. of names u wantt to enter = \"))\n",
    "for i in range(n):\n",
    "    name=input(\"enter the name = \")\n",
    "    ntc_no=int(input(\"enter the ntc phn no = \"))\n",
    "    smart_no=int(input(\"enter the smart cell no = \"))\n",
    "    d[name]=[ntc_no,smart_no]\n",
    "d"
   ]
  },
  {
   "cell_type": "code",
   "execution_count": 35,
   "id": "715984a6",
   "metadata": {},
   "outputs": [
    {
     "data": {
      "text/plain": [
       "{'smile': [98522, 654],\n",
       " 'shalti': [9852147, 8546654],\n",
       " 'seniorita': [98521, 64892]}"
      ]
     },
     "execution_count": 35,
     "metadata": {},
     "output_type": "execute_result"
    }
   ],
   "source": [
    "a={'smile': [98522, 654], 'shalti': [9852147, 8546654]}\n",
    "a['seniorita']=[98521,64892]\n",
    "a"
   ]
  },
  {
   "cell_type": "code",
   "execution_count": 38,
   "id": "339f3d50",
   "metadata": {},
   "outputs": [
    {
     "data": {
      "text/plain": [
       "{'smile': [9852147, 654],\n",
       " 'shalti': [9852147, 8546654],\n",
       " 'seniorita': [98521, 64892]}"
      ]
     },
     "execution_count": 38,
     "metadata": {},
     "output_type": "execute_result"
    }
   ],
   "source": [
    "a={'smile': [98522, 654],\n",
    " 'shalti': [9852147, 8546654],\n",
    " 'seniorita': [98521, 64892]}\n",
    "a['smile'][0]=9852147\n",
    "a"
   ]
  },
  {
   "cell_type": "code",
   "execution_count": 39,
   "id": "180b9ed6",
   "metadata": {},
   "outputs": [
    {
     "data": {
      "text/plain": [
       "{'smile': [9852147, 654, 863210],\n",
       " 'shalti': [9852147, 8546654],\n",
       " 'seniorita': [98521, 64892]}"
      ]
     },
     "execution_count": 39,
     "metadata": {},
     "output_type": "execute_result"
    }
   ],
   "source": [
    "a['smile'].append(863210)\n",
    "a\n"
   ]
  },
  {
   "cell_type": "code",
   "execution_count": 42,
   "id": "4998cc7b",
   "metadata": {},
   "outputs": [
    {
     "name": "stdout",
     "output_type": "stream",
     "text": [
      "enter the value of n = 3\n",
      "enter name = smile\n",
      "enter the age = 19\n",
      "enter the address = btl\n",
      "enter name = sparsh\n",
      "enter the age = 16\n",
      "enter the address = btl\n",
      "enter name = shakti\n",
      "enter the age = 21\n",
      "enter the address = lalitpur\n"
     ]
    },
    {
     "data": {
      "text/plain": [
       "{'name': ['smile', 'sparsh', 'shakti'],\n",
       " 'age': [19, 16, 21],\n",
       " 'address': ['btl', 'btl', 'lalitpur']}"
      ]
     },
     "execution_count": 42,
     "metadata": {},
     "output_type": "execute_result"
    }
   ],
   "source": [
    "#a={'name':'','age':'','address':''}\n",
    "name = []\n",
    "age = []\n",
    "address= []\n",
    "n= int(input(\"enter the value of n = \"))\n",
    "for i in range(n):\n",
    "    na=input(\"enter name = \")\n",
    "    ag=int(input(\"enter the age = \"))\n",
    "    add=input(\"enter the address = \")\n",
    "    name.append(na)\n",
    "    age.append(ag)\n",
    "    address.append(add)\n",
    "a={'name':name,'age':age,'address':address}\n",
    "a"
   ]
  },
  {
   "cell_type": "code",
   "execution_count": 2,
   "id": "70b9dbab",
   "metadata": {},
   "outputs": [
    {
     "data": {
      "text/plain": [
       "[{'name': 'smile', 'age': 5, 'add': 'ktm'},\n",
       " {'name': 'shakti', 'age': 21, 'add': 'ktm'},\n",
       " {'name': 'sus', 'age': 22, 'add': 'ktm'}]"
      ]
     },
     "execution_count": 2,
     "metadata": {},
     "output_type": "execute_result"
    }
   ],
   "source": [
    "#dict inside list\n",
    "l=[{'name':'smile','age':5,'add':'ktm'},\n",
    "  {'name':'shakti','age':21,'add':'ktm'},\n",
    "  {'name':'sus','age':22,'add':'ktm'}]\n",
    "l"
   ]
  },
  {
   "cell_type": "code",
   "execution_count": 4,
   "id": "15ddbb61",
   "metadata": {},
   "outputs": [
    {
     "name": "stdout",
     "output_type": "stream",
     "text": [
      "enter the n = 2\n",
      "enter the name = smile\n",
      "enter the age = 15\n",
      "enter the addtess = ktm\n",
      "enter the name = shakti\n",
      "enter the age = 21\n",
      "enter the addtess = ktm\n",
      "[{'name': 'smile', 'age': 15, 'address': 'ktm'}, {'name': 'shakti', 'age': 21, 'address': 'ktm'}]\n"
     ]
    }
   ],
   "source": [
    "data=[]\n",
    "n=int(input(\"enter the n = \"))\n",
    "for i in range(n):\n",
    "    name=input(\"enter the name = \")\n",
    "    age=int(input(\"enter the age = \"))\n",
    "    add=input(\"enter the addtess = \")\n",
    "    info={'name':name,'age':age,'address':add}\n",
    "    data.append(info)\n",
    "print(data)"
   ]
  },
  {
   "cell_type": "code",
   "execution_count": 5,
   "id": "dfbf9703",
   "metadata": {},
   "outputs": [
    {
     "data": {
      "text/plain": [
       "[{'name': 'smile', 'age': 15, 'address': 'ktm'},\n",
       " {'name': 'shakti', 'age': 21, 'address': 'ktm'},\n",
       " {'name': 'sus', 'age': 22, 'add': 'ktm'}]"
      ]
     },
     "execution_count": 5,
     "metadata": {},
     "output_type": "execute_result"
    }
   ],
   "source": [
    "data=[{'name':'smile','age':15,'address':'ktm'},\n",
    "     {'name':'shakti','age':21,'address':'ktm'}]\n",
    "data.append({'name':'sus','age':22,'add':'ktm'})\n",
    "data"
   ]
  },
  {
   "cell_type": "code",
   "execution_count": 6,
   "id": "48c528ff",
   "metadata": {},
   "outputs": [
    {
     "data": {
      "text/plain": [
       "{'name': 'smile', 'age': 15, 'address': 'ktm'}"
      ]
     },
     "execution_count": 6,
     "metadata": {},
     "output_type": "execute_result"
    }
   ],
   "source": [
    "data[0]"
   ]
  },
  {
   "cell_type": "code",
   "execution_count": 7,
   "id": "cb965824",
   "metadata": {},
   "outputs": [
    {
     "data": {
      "text/plain": [
       "{'name': 'shakti', 'age': 21, 'address': 'ktm'}"
      ]
     },
     "execution_count": 7,
     "metadata": {},
     "output_type": "execute_result"
    }
   ],
   "source": [
    "data[1]"
   ]
  },
  {
   "cell_type": "code",
   "execution_count": 8,
   "id": "962039f2",
   "metadata": {},
   "outputs": [
    {
     "data": {
      "text/plain": [
       "{'name': 'sus', 'age': 22, 'add': 'ktm'}"
      ]
     },
     "execution_count": 8,
     "metadata": {},
     "output_type": "execute_result"
    }
   ],
   "source": [
    "data[2]"
   ]
  },
  {
   "cell_type": "code",
   "execution_count": 10,
   "id": "cd9079d3",
   "metadata": {},
   "outputs": [
    {
     "name": "stdout",
     "output_type": "stream",
     "text": [
      "smile\n"
     ]
    }
   ],
   "source": [
    "print(data[0]['name'])"
   ]
  },
  {
   "cell_type": "code",
   "execution_count": 11,
   "id": "a1dc57a9",
   "metadata": {},
   "outputs": [],
   "source": [
    "data[0]['name']='smir'"
   ]
  },
  {
   "cell_type": "code",
   "execution_count": 12,
   "id": "dc88a689",
   "metadata": {},
   "outputs": [
    {
     "data": {
      "text/plain": [
       "[{'name': 'smir', 'age': 15, 'address': 'ktm'},\n",
       " {'name': 'shakti', 'age': 21, 'address': 'ktm'},\n",
       " {'name': 'sus', 'age': 22, 'add': 'ktm'}]"
      ]
     },
     "execution_count": 12,
     "metadata": {},
     "output_type": "execute_result"
    }
   ],
   "source": [
    "data"
   ]
  },
  {
   "cell_type": "code",
   "execution_count": 13,
   "id": "d4237973",
   "metadata": {},
   "outputs": [],
   "source": [
    "#dict inside dict"
   ]
  },
  {
   "cell_type": "code",
   "execution_count": 2,
   "id": "445bcb50",
   "metadata": {},
   "outputs": [
    {
     "data": {
      "text/plain": [
       "{1: {'name': 'ram', 'age': 16, 'add': 'ktm'},\n",
       " 2: {'name': 'smile', 'age': 16, 'add': 'ktm'},\n",
       " 3: {'name': 'aha', 'age': 16, 'add': 'ktm'}}"
      ]
     },
     "execution_count": 2,
     "metadata": {},
     "output_type": "execute_result"
    }
   ],
   "source": [
    "a={1:{'name':'ram','age':16,'add':'ktm'},\n",
    "  2:{'name':'smile','age':16,'add':'ktm'},\n",
    "   3:{'name':'aha','age':16,'add':'ktm'}}\n",
    "a"
   ]
  },
  {
   "cell_type": "code",
   "execution_count": 4,
   "id": "9b4bf6d8",
   "metadata": {},
   "outputs": [
    {
     "name": "stdout",
     "output_type": "stream",
     "text": [
      "enter the n = 2\n",
      "enter name= smile\n",
      "enter age = 12\n",
      "enter the address = btl\n",
      "enter name= sparsh\n",
      "enter age = 15\n",
      "enter the address = btl\n"
     ]
    },
    {
     "data": {
      "text/plain": [
       "{1: {'name': 'smile', 'age': 12, 'address': 'btl'},\n",
       " 2: {'name': 'sparsh', 'age': 15, 'address': 'btl'}}"
      ]
     },
     "execution_count": 4,
     "metadata": {},
     "output_type": "execute_result"
    }
   ],
   "source": [
    "d={}\n",
    "n=int(input(\"enter the n = \"))\n",
    "for i in range(1,n+1):\n",
    "    name=input(\"enter name= \")\n",
    "    age=int(input(\"enter age = \"))\n",
    "    add=input(\"enter the address = \")\n",
    "    info={'name':name,'age':age,'address':add}\n",
    "    d[i]=info\n",
    "d"
   ]
  },
  {
   "cell_type": "code",
   "execution_count": 5,
   "id": "7a7bf140",
   "metadata": {},
   "outputs": [
    {
     "data": {
      "text/plain": [
       "{1: {'name': 'smile', 'age': 12, 'address': 'btl'},\n",
       " 2: {'name': 'sparsh', 'age': 15, 'address': 'btl'},\n",
       " 3: {'name': 'mom', 'age': 12, 'address': 'btl'}}"
      ]
     },
     "execution_count": 5,
     "metadata": {},
     "output_type": "execute_result"
    }
   ],
   "source": [
    "#dictonaries inside dictionaries\n",
    "a={1: {'name': 'smile', 'age': 12, 'address': 'btl'},\n",
    "   2:{'name': 'sparsh', 'age': 15, 'address': 'btl'}}\n",
    "a[3]={'name': 'mom', 'age': 12, 'address': 'btl'}\n",
    "a"
   ]
  },
  {
   "cell_type": "code",
   "execution_count": 6,
   "id": "c3bc2bc7",
   "metadata": {},
   "outputs": [
    {
     "data": {
      "text/plain": [
       "{1: {'name': 'slodje00', 'age': 12, 'address': 'btl'},\n",
       " 2: {'name': 'sparsh', 'age': 15, 'address': 'btl'},\n",
       " 3: {'name': 'mom', 'age': 12, 'address': 'btl'}}"
      ]
     },
     "execution_count": 6,
     "metadata": {},
     "output_type": "execute_result"
    }
   ],
   "source": [
    "a[1]['name']='slodje00'\n",
    "a"
   ]
  },
  {
   "cell_type": "code",
   "execution_count": 8,
   "id": "6ddd947d",
   "metadata": {},
   "outputs": [
    {
     "name": "stdout",
     "output_type": "stream",
     "text": [
      "{'name': 'slodje00', 'age': 12, 'address': 'btl'}\n",
      "{'name': 'sparsh', 'age': 15, 'address': 'btl'}\n",
      "{'name': 'mom', 'age': 12, 'address': 'btl'}\n"
     ]
    }
   ],
   "source": [
    "for i in a.values():\n",
    "    print(i)"
   ]
  },
  {
   "cell_type": "code",
   "execution_count": 9,
   "id": "aa6aae0b",
   "metadata": {},
   "outputs": [
    {
     "name": "stdout",
     "output_type": "stream",
     "text": [
      "enter the phone number = 98521\n",
      "enter the phone number = 8524\n",
      "enter the phone number = 5563\n",
      "{1: {'name': 'slodje00', 'age': 12, 'address': 'btl', 'phone': 98521}, 2: {'name': 'sparsh', 'age': 15, 'address': 'btl', 'phone': 8524}, 3: {'name': 'mom', 'age': 12, 'address': 'btl', 'phone': 5563}}\n"
     ]
    }
   ],
   "source": [
    " for i in a.values():\n",
    "        phone=int(input(\"enter the phone number = \"))\n",
    "        i['phone']=phone\n",
    "print(a)"
   ]
  },
  {
   "cell_type": "code",
   "execution_count": 12,
   "id": "dab13899",
   "metadata": {},
   "outputs": [
    {
     "name": "stdout",
     "output_type": "stream",
     "text": [
      "enter the phone number = 9852\n",
      "enter the ncell phone number = 665\n",
      "entert hte smart no = 65\n",
      "enter the phone number = 6484\n",
      "enter the ncell phone number = 5446\n",
      "entert hte smart no = 51\n",
      "enter the phone number = 62\n",
      "enter the ncell phone number = 334\n",
      "entert hte smart no = 65\n",
      "{1: {'name': 'slodje00', 'age': 12, 'address': 'btl', 'phone': 98521, 5563: ['ntc_phone', 'ncell_phone', 'smart_cell']}, 2: {'name': 'sparsh', 'age': 15, 'address': 'btl', 'phone': 8524, 5563: ['ntc_phone', 'ncell_phone', 'smart_cell']}, 3: {'name': 'mom', 'age': 12, 'address': 'btl', 'phone': 5563, 5563: ['ntc_phone', 'ncell_phone', 'smart_cell']}}\n"
     ]
    }
   ],
   "source": [
    "for i in a.values():\n",
    "    ntc_phone=int(input(\"enter the phone number = \"))\n",
    "    ncell_phone=int(input(\"enter the ncell phone number = \"))\n",
    "    smart_cell=int(input(\"entert hte smart no = \"))\n",
    "    i[phone]=['ntc_phone','ncell_phone','smart_cell']\n",
    "print(a)"
   ]
  },
  {
   "cell_type": "code",
   "execution_count": 13,
   "id": "2899086c",
   "metadata": {},
   "outputs": [
    {
     "data": {
      "text/plain": [
       "{1: {'phy': {'pr': 34, 'th': 20}}, 'chem': {'pr': 36, 'th': 30}, 'math': 80}"
      ]
     },
     "execution_count": 13,
     "metadata": {},
     "output_type": "execute_result"
    }
   ],
   "source": [
    "#crud\n",
    "a={1:{'phy':{'pr':34,'th':20}},'chem':{'pr':36,'th':30},'math':80}\n",
    "a"
   ]
  },
  {
   "cell_type": "code",
   "execution_count": null,
   "id": "17c5c197",
   "metadata": {},
   "outputs": [],
   "source": []
  }
 ],
 "metadata": {
  "kernelspec": {
   "display_name": "Python 3 (ipykernel)",
   "language": "python",
   "name": "python3"
  },
  "language_info": {
   "codemirror_mode": {
    "name": "ipython",
    "version": 3
   },
   "file_extension": ".py",
   "mimetype": "text/x-python",
   "name": "python",
   "nbconvert_exporter": "python",
   "pygments_lexer": "ipython3",
   "version": "3.9.12"
  }
 },
 "nbformat": 4,
 "nbformat_minor": 5
}
