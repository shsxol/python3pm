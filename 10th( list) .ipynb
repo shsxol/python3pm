{
 "cells": [
  {
   "cell_type": "code",
   "execution_count": 3,
   "id": "3a9dd98f",
   "metadata": {},
   "outputs": [],
   "source": [
    "#python collection\n",
    "#list \n",
    "#tuple \n",
    "#dictoniary\n",
    "#set"
   ]
  },
  {
   "cell_type": "code",
   "execution_count": 4,
   "id": "a5482866",
   "metadata": {},
   "outputs": [],
   "source": [
    "#list (is also kind of array.so it can also be called as array)\n",
    "#- indexed\n",
    "#- ordered\n",
    "#- multiple values\n",
    "#- mutable (can be again upgraded)\n"
   ]
  },
  {
   "cell_type": "code",
   "execution_count": 5,
   "id": "042012df",
   "metadata": {},
   "outputs": [
    {
     "name": "stdout",
     "output_type": "stream",
     "text": [
      "['Apple', 'smile', 'kat'] ['5', '2'] []\n",
      "<class 'list'>\n",
      "<class 'list'>\n",
      "<class 'list'>\n"
     ]
    }
   ],
   "source": [
    "a=[\"Apple\",\"smile\",\"kat\"]\n",
    "b=[\"5\",'2']\n",
    "#c=list()\n",
    "c=[]\n",
    "print(a,b,c)\n",
    "print(type(a))\n",
    "print(type(b))\n",
    "print(type(c))"
   ]
  },
  {
   "cell_type": "code",
   "execution_count": 11,
   "id": "a47d2348",
   "metadata": {},
   "outputs": [
    {
     "name": "stdout",
     "output_type": "stream",
     "text": [
      "smile hedgehog frog shakti\n"
     ]
    }
   ],
   "source": [
    "a=[\"smile\",\"kat\",\"shakti\",\"hedgehog\",\"frog\"]\n",
    "print(a[0],a[3],a[4],a[2])"
   ]
  },
  {
   "cell_type": "code",
   "execution_count": 12,
   "id": "257507b6",
   "metadata": {},
   "outputs": [
    {
     "name": "stdout",
     "output_type": "stream",
     "text": [
      "['smile', 'kat', 'shakti']\n"
     ]
    }
   ],
   "source": [
    "a=[\"smile\",\"kat\",\"shakti\",\"hedgehog\",\"frog\"]\n",
    "print(a[0:3])"
   ]
  },
  {
   "cell_type": "code",
   "execution_count": 13,
   "id": "63595fe6",
   "metadata": {},
   "outputs": [
    {
     "name": "stdout",
     "output_type": "stream",
     "text": [
      "[0, 1, 2, 3]\n"
     ]
    }
   ],
   "source": [
    "a=[0,1,2,3,4,5,6,7,8,9]\n",
    "print(a[0:4])"
   ]
  },
  {
   "cell_type": "code",
   "execution_count": 15,
   "id": "00ee2bf1",
   "metadata": {},
   "outputs": [
    {
     "name": "stdout",
     "output_type": "stream",
     "text": [
      "[0, 2, 4, 6]\n"
     ]
    }
   ],
   "source": [
    "a=[0,1,2,3,4,5,6,7,8,9]\n",
    "print(a[0:8:2])"
   ]
  },
  {
   "cell_type": "code",
   "execution_count": 16,
   "id": "b56727be",
   "metadata": {},
   "outputs": [
    {
     "name": "stdout",
     "output_type": "stream",
     "text": [
      "['h', 'i', ' ', 's', 'm', 'i', 'l', 'e', ' ', 's', 'h', 'r', 'e', 's', 't', 'h', 'a']\n"
     ]
    }
   ],
   "source": [
    "a=\"hi smile shrestha\"\n",
    "print(list(a))"
   ]
  },
  {
   "cell_type": "code",
   "execution_count": 18,
   "id": "7393f4eb",
   "metadata": {},
   "outputs": [
    {
     "name": "stdout",
     "output_type": "stream",
     "text": [
      "['apple', 'cat', 1, 2, 5]\n"
     ]
    }
   ],
   "source": [
    "a=[\"apple\",\"cat\"]\n",
    "b=[1,2,5]\n",
    "c=a+b\n",
    "print(c)"
   ]
  },
  {
   "cell_type": "code",
   "execution_count": 19,
   "id": "df9d85a3",
   "metadata": {},
   "outputs": [
    {
     "name": "stdout",
     "output_type": "stream",
     "text": [
      "['smile', 'skisjf', 'fih', 'friioeoe', 'hoefee', 'smile', 'skisjf', 'fih', 'friioeoe', 'hoefee']\n"
     ]
    }
   ],
   "source": [
    "a=[\"smile\",\"skisjf\",\"fih\",\"friioeoe\",\"hoefee\"]\n",
    "print(a*2)"
   ]
  },
  {
   "cell_type": "code",
   "execution_count": 20,
   "id": "15e00a3c",
   "metadata": {},
   "outputs": [
    {
     "data": {
      "text/plain": [
       "['SMILE', 'eijf', 'fiojef']"
      ]
     },
     "execution_count": 20,
     "metadata": {},
     "output_type": "execute_result"
    }
   ],
   "source": [
    "#update\n",
    "a=[\"smile\",\"eijf\",\"fiojef\"]\n",
    "a[0]=\"SMILE\"\n",
    "a"
   ]
  },
  {
   "cell_type": "code",
   "execution_count": 21,
   "id": "55f01bd2",
   "metadata": {},
   "outputs": [],
   "source": [
    "# append() insert() extend()\n"
   ]
  },
  {
   "cell_type": "code",
   "execution_count": 23,
   "id": "5e8df713",
   "metadata": {},
   "outputs": [
    {
     "data": {
      "text/plain": [
       "['amile', 'lol', 'kid']"
      ]
     },
     "execution_count": 23,
     "metadata": {},
     "output_type": "execute_result"
    }
   ],
   "source": [
    "#append\n",
    "a=[]\n",
    "a.append(\"amile\")\n",
    "a.append(\"lol\")\n",
    "a.append(\"kid\")\n",
    "a"
   ]
  },
  {
   "cell_type": "code",
   "execution_count": 28,
   "id": "14d9abff",
   "metadata": {},
   "outputs": [
    {
     "data": {
      "text/plain": [
       "['eii', 'kidding', 'smile', 'lol']"
      ]
     },
     "execution_count": 28,
     "metadata": {},
     "output_type": "execute_result"
    }
   ],
   "source": [
    "#insert()\n",
    "a=[\"eii\",\"smile\",\"lol\"]\n",
    "a.insert(1,\"kidding\")\n",
    "a"
   ]
  },
  {
   "cell_type": "code",
   "execution_count": 29,
   "id": "c8930ee5",
   "metadata": {},
   "outputs": [
    {
     "name": "stdout",
     "output_type": "stream",
     "text": [
      "['sbif', 'eidk', 'leoe', 'dof', 1, 3, 5, 6]\n"
     ]
    }
   ],
   "source": [
    "#extend\n",
    "a=[\"sbif\",\"eidk\",\"leoe\",\"dof\"]\n",
    "b=[1,3,5,6]\n",
    "a.extend(b)\n",
    "print(a)"
   ]
  },
  {
   "cell_type": "code",
   "execution_count": 30,
   "id": "f9eb2501",
   "metadata": {},
   "outputs": [
    {
     "data": {
      "text/plain": [
       "['sbif', 'eidk', 'leoe', 1, 3, 5, 6, 'dof']"
      ]
     },
     "execution_count": 30,
     "metadata": {},
     "output_type": "execute_result"
    }
   ],
   "source": [
    "a=[\"sbif\",\"eidk\",\"leoe\",\"dof\"]\n",
    "b=[1,3,5,6]\n",
    "c=a[0:3]+b+a[3:]\n",
    "c"
   ]
  },
  {
   "cell_type": "code",
   "execution_count": 33,
   "id": "be498fd6",
   "metadata": {},
   "outputs": [
    {
     "name": "stdout",
     "output_type": "stream",
     "text": [
      "enter n = 3\n",
      "enter the value of x = 2\n",
      "enter the value of x = 4\n",
      "enter the value of x = 5\n",
      "[2, 4, 5]\n"
     ]
    }
   ],
   "source": [
    "l=[]\n",
    "n= int(input(\"enter n = \"))\n",
    "for i in range(n):\n",
    "    x=int(input(\"enter the value of x = \"))\n",
    "    l.append(x)\n",
    "print(l)\n",
    "    "
   ]
  },
  {
   "cell_type": "code",
   "execution_count": 35,
   "id": "18453b56",
   "metadata": {},
   "outputs": [
    {
     "name": "stdout",
     "output_type": "stream",
     "text": [
      "enter the max of  =  5\n",
      "enter the min of  =  2\n",
      "enter the sum of  =  11\n",
      "[2, 4, 5]\n",
      "[5, 4, 2]\n"
     ]
    }
   ],
   "source": [
    "# all are pre defined functions\n",
    "print(\"enter the max of  = \",max(l))\n",
    "print(\"enter the min of  = \",min(l))\n",
    "print(\"enter the sum of  = \",sum(l))\n",
    "l.sort()\n",
    "print(l)\n",
    "l.reverse()\n",
    "print(l)"
   ]
  },
  {
   "cell_type": "code",
   "execution_count": 36,
   "id": "d090301d",
   "metadata": {},
   "outputs": [
    {
     "data": {
      "text/plain": [
       "['dof', 'eidk', 'leoe', 'sbif']"
      ]
     },
     "execution_count": 36,
     "metadata": {},
     "output_type": "execute_result"
    }
   ],
   "source": [
    "#sorting in ascneding order according to the alphabetical order\n",
    "a=[\"sbif\",\"eidk\",\"leoe\",\"dof\"]\n",
    "a.sort()\n",
    "a"
   ]
  },
  {
   "cell_type": "code",
   "execution_count": 39,
   "id": "8f9cb790",
   "metadata": {},
   "outputs": [
    {
     "name": "stdout",
     "output_type": "stream",
     "text": [
      "apple\n",
      "ball\n",
      "cat\n",
      "aded\n",
      "bob\n"
     ]
    }
   ],
   "source": [
    "a=[\"apple\",\"ball\",\"cat\",\"aded\",\"bob\"]\n",
    "for i in a:\n",
    "    print(i)"
   ]
  },
  {
   "cell_type": "code",
   "execution_count": 1,
   "id": "c863a879",
   "metadata": {},
   "outputs": [
    {
     "ename": "IndentationError",
     "evalue": "expected an indented block (569849058.py, line 5)",
     "output_type": "error",
     "traceback": [
      "\u001b[1;36m  Input \u001b[1;32mIn [1]\u001b[1;36m\u001b[0m\n\u001b[1;33m    b.append(i)\u001b[0m\n\u001b[1;37m    ^\u001b[0m\n\u001b[1;31mIndentationError\u001b[0m\u001b[1;31m:\u001b[0m expected an indented block\n"
     ]
    }
   ],
   "source": [
    "a=[\"apple\",\"ball\",\"cat\",\"aded\",\"bob\"]\n",
    "b=[]\n",
    "for i in a:\n",
    "    if i!=\"apple\":\n",
    "    b.append(i)\n",
    "b"
   ]
  },
  {
   "cell_type": "code",
   "execution_count": 46,
   "id": "c22aa6ef",
   "metadata": {},
   "outputs": [
    {
     "name": "stdout",
     "output_type": "stream",
     "text": [
      "yes 4\n"
     ]
    }
   ],
   "source": [
    "a=[\"apple\",\"ball\",\"cat\",\"apple\",\"aded\",\"bob\",\"apple\",\"apple\"]\n",
    "if \"apple\" in a:\n",
    "    print(\"yes\",a.count(\"apple\"))\n",
    "else:\n",
    "    print(\"no\")"
   ]
  },
  {
   "cell_type": "code",
   "execution_count": 51,
   "id": "519972f5",
   "metadata": {},
   "outputs": [
    {
     "data": {
      "text/plain": [
       "['bob', 'apple', 'apple']"
      ]
     },
     "execution_count": 51,
     "metadata": {},
     "output_type": "execute_result"
    }
   ],
   "source": [
    "a=[\"apple\",\"ball\",\"cat\",\"apple\",\"aded\",\"bob\",\"apple\",\"apple\"]\n",
    "del a[0:5] #it basically directly deletes the data\n",
    "a"
   ]
  },
  {
   "cell_type": "code",
   "execution_count": 48,
   "id": "8db8e382",
   "metadata": {},
   "outputs": [
    {
     "data": {
      "text/plain": [
       "['apple', 'ball', 'cat', 'apple', 'aded', 'bob', 'apple']"
      ]
     },
     "execution_count": 48,
     "metadata": {},
     "output_type": "execute_result"
    }
   ],
   "source": [
    "a=[\"apple\",\"ball\",\"cat\",\"apple\",\"aded\",\"bob\",\"apple\",\"apple\"]\n",
    "a.pop() #remove data from last in default\n",
    "a"
   ]
  },
  {
   "cell_type": "code",
   "execution_count": 50,
   "id": "8a556c8b",
   "metadata": {},
   "outputs": [
    {
     "name": "stdout",
     "output_type": "stream",
     "text": [
      "['apple', 'ball', 'cat', 'apple', 'aded', 'bob', 'apple']\n",
      "apple\n"
     ]
    }
   ],
   "source": [
    "a=[\"apple\",\"ball\",\"cat\",\"apple\",\"aded\",\"bob\",\"apple\",\"apple\"]\n",
    "x=a.pop(6)  #it can pop the data from the list and assign in anyother variable\n",
    "print(a)\n",
    "print(x)"
   ]
  },
  {
   "cell_type": "code",
   "execution_count": 52,
   "id": "6b4d87e5",
   "metadata": {},
   "outputs": [
    {
     "data": {
      "text/plain": [
       "2"
      ]
     },
     "execution_count": 52,
     "metadata": {},
     "output_type": "execute_result"
    }
   ],
   "source": [
    "a=[\"apple\",\"ball\",\"cat\",\"apple\",\"aded\",\"bob\",\"apple\",\"apple\"]\n",
    "a.index(\"cat\")"
   ]
  },
  {
   "cell_type": "code",
   "execution_count": 53,
   "id": "a6778fc4",
   "metadata": {},
   "outputs": [],
   "source": [
    "#wap to detect the index of multiple value\n",
    "#wap to remove the duplicate value"
   ]
  },
  {
   "cell_type": "code",
   "execution_count": 54,
   "id": "7824c9e6",
   "metadata": {},
   "outputs": [
    {
     "data": {
      "text/plain": [
       "['apple', 'cat', 'apple', 'aded', 'bob', 'apple', 'apple']"
      ]
     },
     "execution_count": 54,
     "metadata": {},
     "output_type": "execute_result"
    }
   ],
   "source": [
    "a=[\"apple\",\"ball\",\"cat\",\"apple\",\"aded\",\"bob\",\"apple\",\"apple\"]\n",
    "a.remove(\"ball\")\n",
    "a"
   ]
  },
  {
   "cell_type": "code",
   "execution_count": null,
   "id": "78cc67eb",
   "metadata": {},
   "outputs": [],
   "source": []
  }
 ],
 "metadata": {
  "kernelspec": {
   "display_name": "Python 3 (ipykernel)",
   "language": "python",
   "name": "python3"
  },
  "language_info": {
   "codemirror_mode": {
    "name": "ipython",
    "version": 3
   },
   "file_extension": ".py",
   "mimetype": "text/x-python",
   "name": "python",
   "nbconvert_exporter": "python",
   "pygments_lexer": "ipython3",
   "version": "3.9.12"
  }
 },
 "nbformat": 4,
 "nbformat_minor": 5
}
