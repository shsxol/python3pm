{
 "cells": [
  {
   "cell_type": "code",
   "execution_count": 1,
   "id": "33913e03",
   "metadata": {},
   "outputs": [],
   "source": [
    "#for\n",
    "#while"
   ]
  },
  {
   "cell_type": "code",
   "execution_count": 2,
   "id": "4078f5b1",
   "metadata": {},
   "outputs": [],
   "source": [
    "#range(5) 0,1,2,3,4\n",
    "#range(1,5) 1,2,3,4\n",
    "#range(1,5,2) 1,3 -> increases 2 number from 1 to 5 "
   ]
  },
  {
   "cell_type": "code",
   "execution_count": 3,
   "id": "ac8a3192",
   "metadata": {},
   "outputs": [
    {
     "name": "stdout",
     "output_type": "stream",
     "text": [
      "0\n",
      "1\n",
      "2\n",
      "3\n",
      "4\n"
     ]
    }
   ],
   "source": [
    "for i in range(5):\n",
    "    print(i)"
   ]
  },
  {
   "cell_type": "code",
   "execution_count": 4,
   "id": "7fe6e913",
   "metadata": {},
   "outputs": [
    {
     "name": "stdout",
     "output_type": "stream",
     "text": [
      "1\n",
      "2\n",
      "3\n",
      "4\n"
     ]
    }
   ],
   "source": [
    "for i in range(1,5):\n",
    "    print(i)"
   ]
  },
  {
   "cell_type": "code",
   "execution_count": 5,
   "id": "3320181e",
   "metadata": {},
   "outputs": [
    {
     "name": "stdout",
     "output_type": "stream",
     "text": [
      "1\n",
      "3\n",
      "5\n",
      "7\n",
      "9\n"
     ]
    }
   ],
   "source": [
    "for i in range (1,10,2):\n",
    "    print(i)"
   ]
  },
  {
   "cell_type": "code",
   "execution_count": 7,
   "id": "f6fd184c",
   "metadata": {},
   "outputs": [
    {
     "name": "stdout",
     "output_type": "stream",
     "text": [
      "1\n"
     ]
    }
   ],
   "source": [
    "for i in range(1,2,3):\n",
    "    print(i)"
   ]
  },
  {
   "cell_type": "code",
   "execution_count": 8,
   "id": "03c62701",
   "metadata": {},
   "outputs": [
    {
     "name": "stdout",
     "output_type": "stream",
     "text": [
      "hello world\n",
      "hello world\n",
      "hello world\n",
      "hello world\n",
      "hello world\n"
     ]
    }
   ],
   "source": [
    "for i in range(5):\n",
    "    print(\"hello world\")"
   ]
  },
  {
   "cell_type": "code",
   "execution_count": 9,
   "id": "4b978793",
   "metadata": {},
   "outputs": [
    {
     "name": "stdout",
     "output_type": "stream",
     "text": [
      "hi bhakti\n",
      "hi bhakti\n",
      "hi bhakti\n",
      "hi bhakti\n",
      "hi bhakti\n"
     ]
    }
   ],
   "source": [
    "for i in range(5):\n",
    "    print(\"hi bhakti\")"
   ]
  },
  {
   "cell_type": "code",
   "execution_count": 10,
   "id": "3ee87391",
   "metadata": {},
   "outputs": [
    {
     "name": "stdout",
     "output_type": "stream",
     "text": [
      "5\n",
      "10\n",
      "15\n",
      "20\n",
      "25\n",
      "30\n",
      "35\n",
      "40\n",
      "45\n",
      "50\n"
     ]
    }
   ],
   "source": [
    "for i in range(1,11):\n",
    "    print(i*5)"
   ]
  },
  {
   "cell_type": "code",
   "execution_count": 13,
   "id": "49ff1363",
   "metadata": {},
   "outputs": [
    {
     "name": "stdout",
     "output_type": "stream",
     "text": [
      "enter the value of n = 2\n",
      "2  *  1  =  2\n",
      "2  *  2  =  22\n",
      "2  *  3  =  222\n",
      "2  *  4  =  2222\n",
      "2  *  5  =  22222\n",
      "2  *  6  =  222222\n",
      "2  *  7  =  2222222\n",
      "2  *  8  =  22222222\n",
      "2  *  9  =  222222222\n",
      "2  *  10  =  2222222222\n"
     ]
    }
   ],
   "source": [
    "n=input(\"enter the value of n = \")\n",
    "for i in range(1,11):\n",
    "    print(n,\" * \",i,\" = \",n*i)"
   ]
  },
  {
   "cell_type": "code",
   "execution_count": 15,
   "id": "2c28ed93",
   "metadata": {},
   "outputs": [
    {
     "name": "stdout",
     "output_type": "stream",
     "text": [
      "enter the value of n = 5\n",
      "5  *  1  =  5\n",
      "5  *  2  =  10\n",
      "5  *  3  =  15\n",
      "5  *  4  =  20\n",
      "5  *  5  =  25\n",
      "5  *  6  =  30\n",
      "5  *  7  =  35\n",
      "5  *  8  =  40\n",
      "5  *  9  =  45\n",
      "5  *  10  =  50\n"
     ]
    }
   ],
   "source": [
    "n=int(input(\"enter the value of n = \"))\n",
    "for i in range(1,11):\n",
    "    print(n,\" * \",i,\" = \",n*i)"
   ]
  },
  {
   "cell_type": "code",
   "execution_count": 16,
   "id": "35ce83d3",
   "metadata": {},
   "outputs": [
    {
     "name": "stdout",
     "output_type": "stream",
     "text": [
      "enter x= 5\n",
      "5\n",
      "enter x= 6\n",
      "6\n"
     ]
    }
   ],
   "source": [
    "for i in range(2):\n",
    "    x=input(\"enter x= \")\n",
    "    print(x)"
   ]
  },
  {
   "cell_type": "code",
   "execution_count": 20,
   "id": "c5be3457",
   "metadata": {},
   "outputs": [
    {
     "name": "stdout",
     "output_type": "stream",
     "text": [
      "enter n = 10\n",
      "enter x= 1\n",
      "enter x= 2\n",
      "enter x= 3\n",
      "enter x= 4\n",
      "enter x= 5\n",
      "enter x= 6\n",
      "enter x= 7\n",
      "enter x= 8\n",
      "enter x= 9\n",
      "enter x= 10\n",
      "55\n"
     ]
    }
   ],
   "source": [
    "s=0\n",
    "n=int(input(\"enter n = \"))\n",
    "for i in range (n):\n",
    "    x=int(input(\"enter x= \"))\n",
    "    s= s+x\n",
    "print(s)"
   ]
  },
  {
   "cell_type": "code",
   "execution_count": 24,
   "id": "9c0ca679",
   "metadata": {},
   "outputs": [
    {
     "name": "stdout",
     "output_type": "stream",
     "text": [
      "enter n= 4\n",
      "enter x= shakti\n",
      "enter x= bhakti\n",
      "enter x= ra\n",
      "enter x= j\n",
      "shakti bhakti ra j \n"
     ]
    }
   ],
   "source": [
    "s=str()\n",
    "n= int(input(\"enter n= \"))\n",
    "for i in range(n):\n",
    "    x=str(input(\"enter x= \"))\n",
    "    s=s+x+\" \"\n",
    "print(s)"
   ]
  },
  {
   "cell_type": "code",
   "execution_count": 32,
   "id": "0e05a970",
   "metadata": {},
   "outputs": [
    {
     "name": "stdout",
     "output_type": "stream",
     "text": [
      "enter n = 1\n",
      "enter name = smile\n",
      "enter phn no = 9854231788\n",
      "smile 9854231788\n",
      "\n"
     ]
    }
   ],
   "source": [
    "s=str()\n",
    "n= int(input(\"enter n = \")) #always gotta write int befroe input for integer number\n",
    "for i in range(n):\n",
    "    name=input(\"enter name = \")\n",
    "    phone=int(input(\"enter phn no = \"))\n",
    "    s=s+name+\" \"+str(phone)+\"\\n\" #saving in the variable so we can add space directly\n",
    "print(s)"
   ]
  },
  {
   "cell_type": "code",
   "execution_count": 41,
   "id": "a97705f2",
   "metadata": {},
   "outputs": [
    {
     "name": "stdout",
     "output_type": "stream",
     "text": [
      "enter n = 4\n",
      "1 * 1 = 1\n",
      "2 * 2 = 2\n",
      "3 * 6 = 6\n",
      "4 * 24 = 24\n"
     ]
    }
   ],
   "source": [
    "fac=1\n",
    "n=int(input(\"enter n = \"))\n",
    "for i in range(1,n+1):\n",
    "    fac=fac*i\n",
    "    print(i,\"*\",fac,\"=\",fac)"
   ]
  },
  {
   "cell_type": "code",
   "execution_count": 43,
   "id": "6d27e307",
   "metadata": {},
   "outputs": [
    {
     "name": "stdout",
     "output_type": "stream",
     "text": [
      "s\n",
      "m\n",
      "i\n",
      "l\n",
      "e\n"
     ]
    }
   ],
   "source": [
    "#for printing each and every characters\n",
    "a=\"smile\"\n",
    "for i in a: #no need to write range cause characters already got index with them\n",
    "    print(i)"
   ]
  },
  {
   "cell_type": "code",
   "execution_count": 46,
   "id": "3916b81f",
   "metadata": {},
   "outputs": [
    {
     "name": "stdout",
     "output_type": "stream",
     "text": [
      "s hi\n",
      "m hi\n",
      "i hi\n",
      "l hi\n",
      "e hi\n"
     ]
    }
   ],
   "source": [
    "a=\"smile\"\n",
    "for i in a: \n",
    "    print(i,\"hi\")"
   ]
  },
  {
   "cell_type": "code",
   "execution_count": 48,
   "id": "fc105d92",
   "metadata": {},
   "outputs": [
    {
     "name": "stdout",
     "output_type": "stream",
     "text": [
      "s m i l "
     ]
    }
   ],
   "source": [
    "a=\"smile\"\n",
    "for i in range(4): \n",
    "    print(a[i],end=\" \") #for horizontal displaying"
   ]
  },
  {
   "cell_type": "code",
   "execution_count": 49,
   "id": "530dfb69",
   "metadata": {},
   "outputs": [
    {
     "name": "stdout",
     "output_type": "stream",
     "text": [
      "s\n",
      "m\n",
      "i\n",
      "l\n"
     ]
    }
   ],
   "source": [
    "a=\"smile\"\n",
    "for i in range(4): \n",
    "    print(a[i]) #for vertical displaying"
   ]
  },
  {
   "cell_type": "code",
   "execution_count": 51,
   "id": "00acc3fb",
   "metadata": {},
   "outputs": [
    {
     "name": "stdout",
     "output_type": "stream",
     "text": [
      "s h a k t i "
     ]
    }
   ],
   "source": [
    "a=\"shakti\"\n",
    "l=len(a)\n",
    "for i in range(l):\n",
    "    print(a[i],end=\" \")"
   ]
  },
  {
   "cell_type": "code",
   "execution_count": 62,
   "id": "53d614c6",
   "metadata": {},
   "outputs": [
    {
     "name": "stdout",
     "output_type": "stream",
     "text": [
      "enter name = smile\n",
      "s m i l e "
     ]
    }
   ],
   "source": [
    "name= input(\"enter name = \")\n",
    "l=len(name)\n",
    "for i in range(l):\n",
    "    print(name[i],end=\" \")"
   ]
  },
  {
   "cell_type": "code",
   "execution_count": null,
   "id": "9b2bc92e",
   "metadata": {},
   "outputs": [],
   "source": []
  }
 ],
 "metadata": {
  "kernelspec": {
   "display_name": "Python 3 (ipykernel)",
   "language": "python",
   "name": "python3"
  },
  "language_info": {
   "codemirror_mode": {
    "name": "ipython",
    "version": 3
   },
   "file_extension": ".py",
   "mimetype": "text/x-python",
   "name": "python",
   "nbconvert_exporter": "python",
   "pygments_lexer": "ipython3",
   "version": "3.9.12"
  }
 },
 "nbformat": 4,
 "nbformat_minor": 5
}
