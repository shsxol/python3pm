{
 "cells": [
  {
   "cell_type": "code",
   "execution_count": 1,
   "id": "60be7d34",
   "metadata": {},
   "outputs": [],
   "source": [
    "# control statement\n",
    "# break\n",
    "# continue\n",
    "# pass\n"
   ]
  },
  {
   "cell_type": "code",
   "execution_count": 2,
   "id": "f8bac8cc",
   "metadata": {},
   "outputs": [
    {
     "name": "stdout",
     "output_type": "stream",
     "text": [
      "0\n",
      "1\n",
      "2\n",
      "3\n",
      "4\n",
      "5\n",
      "6\n",
      "7\n",
      "8\n",
      "9\n"
     ]
    }
   ],
   "source": [
    "for i in range(10):\n",
    "    print(i)"
   ]
  },
  {
   "cell_type": "code",
   "execution_count": 3,
   "id": "8953cc33",
   "metadata": {},
   "outputs": [
    {
     "name": "stdout",
     "output_type": "stream",
     "text": [
      "0\n",
      "1\n",
      "2\n",
      "3\n",
      "4\n"
     ]
    }
   ],
   "source": [
    "for i in range(10):\n",
    "    if i ==5:\n",
    "        break #when i == 5 then it will break the rule and continues to print the value up to 5\n",
    "    print(i)"
   ]
  },
  {
   "cell_type": "code",
   "execution_count": 4,
   "id": "b908778a",
   "metadata": {},
   "outputs": [
    {
     "name": "stdout",
     "output_type": "stream",
     "text": [
      "0\n",
      "1\n",
      "2\n",
      "3\n",
      "4\n",
      "6\n",
      "7\n",
      "8\n",
      "9\n"
     ]
    }
   ],
   "source": [
    "for i in range(10):\n",
    "    if i==5:\n",
    "        continue # it will basically remove the 5 and gives the all output except 5\n",
    "    print(i)"
   ]
  },
  {
   "cell_type": "code",
   "execution_count": 9,
   "id": "2968ba47",
   "metadata": {},
   "outputs": [
    {
     "name": "stdout",
     "output_type": "stream",
     "text": [
      "h e l l o "
     ]
    }
   ],
   "source": [
    "a= \"hello world\"\n",
    "for i in a:\n",
    "    if i==\" \":\n",
    "        break\n",
    "    print(i,end=\" \")"
   ]
  },
  {
   "cell_type": "code",
   "execution_count": 8,
   "id": "bff49122",
   "metadata": {},
   "outputs": [
    {
     "name": "stdout",
     "output_type": "stream",
     "text": [
      "h e l l o w o r l d "
     ]
    }
   ],
   "source": [
    "a=\"hello world\"\n",
    "for i in a:\n",
    "    if i==\" \":\n",
    "        continue\n",
    "    print(i,end=\" \")"
   ]
  },
  {
   "cell_type": "code",
   "execution_count": 10,
   "id": "1161ee86",
   "metadata": {},
   "outputs": [
    {
     "name": "stdout",
     "output_type": "stream",
     "text": [
      "0\n",
      "1\n",
      "2\n",
      "3\n",
      "4\n",
      "5\n",
      "6\n",
      "7\n",
      "8\n",
      "9\n",
      "10\n",
      "11\n",
      "12\n",
      "13\n"
     ]
    }
   ],
   "source": [
    "a=\"smile shrestha\"\n",
    "n=len(a)\n",
    "for i in range(n):\n",
    "    print(i)"
   ]
  },
  {
   "cell_type": "code",
   "execution_count": 11,
   "id": "6499d156",
   "metadata": {},
   "outputs": [],
   "source": [
    "# prime numbers : 2,3,5,7,9,11,13,17,19\n",
    "#compisite numbers : 4,1,2 le divide jane ie 4,6,8,9,10,12,14,15\n"
   ]
  },
  {
   "cell_type": "code",
   "execution_count": 23,
   "id": "90bea79c",
   "metadata": {},
   "outputs": [
    {
     "name": "stdout",
     "output_type": "stream",
     "text": [
      "enter the number = 9\n",
      "prime no. \n"
     ]
    }
   ],
   "source": [
    "n=int(input(\"enter the number = \"))\n",
    "if n>=2:\n",
    "    for i in range (2,n):\n",
    "        if n%i==0:\n",
    "            print(\"composite \")\n",
    "            break\n",
    "    else: #else of a for loop lol\n",
    "            print(\"prime no. \")\n",
    "            \n",
    "else:\n",
    "    print(\"the number must be greater than 2\")"
   ]
  },
  {
   "cell_type": "code",
   "execution_count": null,
   "id": "9d93db4d",
   "metadata": {},
   "outputs": [],
   "source": [
    "# while loop\n",
    "# while<condition>:\n",
    "# <operation>\n"
   ]
  },
  {
   "cell_type": "code",
   "execution_count": 14,
   "id": "d1b0c8be",
   "metadata": {},
   "outputs": [
    {
     "name": "stdout",
     "output_type": "stream",
     "text": [
      "10 hello kitty\n",
      "9 hello kitty\n",
      "8 hello kitty\n",
      "7 hello kitty\n",
      "6 hello kitty\n",
      "5 hello kitty\n",
      "4 hello kitty\n",
      "3 hello kitty\n",
      "2 hello kitty\n",
      "1 hello kitty\n"
     ]
    }
   ],
   "source": [
    "for i in range(10,0,-1):\n",
    "    print(i,\"hello kitty\")\n",
    "        "
   ]
  },
  {
   "cell_type": "code",
   "execution_count": 4,
   "id": "54ab15aa",
   "metadata": {},
   "outputs": [
    {
     "name": "stdout",
     "output_type": "stream",
     "text": [
      "hello kitty\n",
      "hello kitty\n"
     ]
    }
   ],
   "source": [
    "i=0\n",
    "while i <2:\n",
    "    print(\"hello kitty\")\n",
    "    i=i+1"
   ]
  },
  {
   "cell_type": "code",
   "execution_count": 10,
   "id": "af2f4cf2",
   "metadata": {},
   "outputs": [
    {
     "name": "stdout",
     "output_type": "stream",
     "text": [
      "5 hihi\n",
      "4 hihi\n",
      "3 hihi\n",
      "2 hihi\n",
      "1 hihi\n",
      "0 hihi\n"
     ]
    }
   ],
   "source": [
    "i=5\n",
    "while i>=0:\n",
    "    print(i,\"hihi\")\n",
    "    i=i-1"
   ]
  },
  {
   "cell_type": "code",
   "execution_count": 18,
   "id": "2d7056f9",
   "metadata": {},
   "outputs": [
    {
     "name": "stdout",
     "output_type": "stream",
     "text": [
      "enter = smile\n",
      "yuuuyiii01\n"
     ]
    }
   ],
   "source": [
    "#while as if statement\n",
    "x=input(\"enter = \")\n",
    "while x==\"python\":\n",
    "    print(\"you entered python\")\n",
    "    break\n",
    "else:\n",
    "    print(\"yuuuyiii01\")"
   ]
  },
  {
   "cell_type": "code",
   "execution_count": 3,
   "id": "aa5fe732",
   "metadata": {},
   "outputs": [
    {
     "name": "stdout",
     "output_type": "stream",
     "text": [
      "enter the value of n = 5\n",
      "5 * 1 = 5\n",
      "5 * 2 = 10\n",
      "5 * 3 = 15\n",
      "5 * 4 = 20\n",
      "5 * 5 = 25\n",
      "5 * 6 = 30\n",
      "5 * 7 = 35\n",
      "5 * 8 = 40\n",
      "5 * 9 = 45\n",
      "5 * 10 = 50\n"
     ]
    }
   ],
   "source": [
    "n=int(input(\"enter the value of n = \"))\n",
    "i=1\n",
    "while i<=10:\n",
    "    print(n,\"*\",i,\"=\",n*i)\n",
    "    i+=1\n",
    "    "
   ]
  },
  {
   "cell_type": "code",
   "execution_count": 4,
   "id": "4f3cc0f0",
   "metadata": {},
   "outputs": [
    {
     "name": "stdout",
     "output_type": "stream",
     "text": [
      "enter the value of n = 5\n",
      "enter the value of x= 20\n",
      "enter the value of x= 30\n",
      "enter the value of x= 40\n",
      "enter the value of x= 50\n",
      "enter the value of x= 60\n",
      "200\n"
     ]
    }
   ],
   "source": [
    "s=0\n",
    "i=0\n",
    "n=int(input(\"enter the value of n = \"))\n",
    "while i<n:\n",
    "    x=int(input(\"enter the value of x= \"))\n",
    "    s=s+x\n",
    "    i=i+1\n",
    "print(s)"
   ]
  },
  {
   "cell_type": "code",
   "execution_count": null,
   "id": "20f2a33c",
   "metadata": {},
   "outputs": [],
   "source": []
  }
 ],
 "metadata": {
  "kernelspec": {
   "display_name": "Python 3 (ipykernel)",
   "language": "python",
   "name": "python3"
  },
  "language_info": {
   "codemirror_mode": {
    "name": "ipython",
    "version": 3
   },
   "file_extension": ".py",
   "mimetype": "text/x-python",
   "name": "python",
   "nbconvert_exporter": "python",
   "pygments_lexer": "ipython3",
   "version": "3.9.12"
  }
 },
 "nbformat": 4,
 "nbformat_minor": 5
}
